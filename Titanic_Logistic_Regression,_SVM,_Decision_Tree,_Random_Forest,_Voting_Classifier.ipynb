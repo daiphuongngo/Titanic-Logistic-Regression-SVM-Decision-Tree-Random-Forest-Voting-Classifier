{
  "nbformat": 4,
  "nbformat_minor": 0,
  "metadata": {
    "kernelspec": {
      "name": "python3",
      "display_name": "Python 3"
    },
    "language_info": {
      "codemirror_mode": {
        "name": "ipython",
        "version": 3
      },
      "file_extension": ".py",
      "mimetype": "text/x-python",
      "name": "python",
      "nbconvert_exporter": "python",
      "pygments_lexer": "ipython3",
      "version": "3.6.6"
    },
    "colab": {
      "name": "Titanic - Logistic Regression, SVM, Decision Tree, Random Forest, Voting Classifier.ipynb",
      "provenance": [],
      "collapsed_sections": [],
      "toc_visible": true
    },
    "accelerator": "GPU"
  },
  "cells": [
    {
      "cell_type": "markdown",
      "metadata": {
        "id": "_5t7roxvBuxc"
      },
      "source": [
        "# Titanic - Machine Learning from Disaster"
      ]
    },
    {
      "cell_type": "markdown",
      "metadata": {
        "_uuid": "20c66c96b3cf0abd94f514e362a80a084b9ac562",
        "id": "iVMtPCvR7G_i"
      },
      "source": [
        "\n",
        "## Machine Learning Workflow\n",
        "\n",
        "1. Define Problem\n",
        "1. Specify Inputs & Outputs\n",
        "1. Exploratory Data Analysis\n",
        "1. Data Collection\n",
        "1. Data Preprocessing\n",
        "1. Data Cleaning\n",
        "1. Visualization\n",
        "1. Model Design, Training, and Offline Evaluation\n",
        "1. Model Deployment, Online Evaluation, and Monitoring\n",
        "1. Model Maintenance, Diagnosis, and Retraining\n"
      ]
    },
    {
      "cell_type": "markdown",
      "metadata": {
        "_uuid": "1bef8401fc30b062fd63af4dc5a8cb6a0e1e7cad",
        "id": "kPHUUBan7G_q"
      },
      "source": [
        "## Features\n",
        "\n",
        "The Titanic got sunken on **April 15th, 1912**, which caused deaths of **1502 / 2224** passengers and sailors.\n",
        "\n",
        "In this dataset, I will use the main *12 features** as follows:\n",
        "\n",
        "Variable | Name\tDescription \n",
        "--- | --- \n",
        "Survived |\tSurvived (1) or died (0)\n",
        "Pclass |\tPassenger's class\n",
        "Name\t| Passenger's name\n",
        "Sex\t| Passenger's sex\n",
        "Age\t| Passenger's age\n",
        "SibSp\t| Number of siblings/spouses aboard\n",
        "Parch\t| Number of parents/children aboard\n",
        "Ticket\t| Ticket number\n",
        "Fare\t| Fare\n",
        "Cabin\t| Cabin\n",
        "Embarked\t| Port of embarkation\n",
        "\n",
        "\n",
        "\n"
      ]
    },
    {
      "cell_type": "markdown",
      "metadata": {
        "id": "gFy5Dn1D57CK"
      },
      "source": [
        "## Dataset\n",
        "\n",
        "https://www.kaggle.com/c/titanic/data"
      ]
    },
    {
      "cell_type": "code",
      "metadata": {
        "_cell_guid": "b1076dfc-b9ad-4769-8c92-a6c4dae69d19",
        "_kg_hide-input": true,
        "_uuid": "8f2839f25d086af736a60e9eeb907d3b93b6e0e5",
        "id": "9j_RmvVt7HAS"
      },
      "source": [
        "import warnings\n",
        "import json\n",
        "import sys\n",
        "import csv\n",
        "import os\n",
        "\n",
        "\n",
        "import pandas as pd\n",
        "\n",
        "import matplotlib as mpl\n",
        "import matplotlib.pyplot as plt\n",
        "import seaborn as sns\n",
        "\n",
        "import scipy\n",
        "import numpy as np\n",
        "np.random.seed(1612)"
      ],
      "execution_count": null,
      "outputs": []
    },
    {
      "cell_type": "code",
      "metadata": {
        "_kg_hide-input": true,
        "_uuid": "cb7e4af0977f267f0055ef6c7b9d7081cbaeb889",
        "id": "FVIYJfS37HBJ"
      },
      "source": [
        "sns.set(style='white', context='notebook', palette='deep')\n",
        "warnings.filterwarnings('ignore')\n",
        "mpl.style.use('ggplot')\n",
        "sns.set_style('white')\n",
        "%matplotlib inline"
      ],
      "execution_count": null,
      "outputs": []
    },
    {
      "cell_type": "code",
      "metadata": {
        "id": "Y4_EMOuTOA5i",
        "colab": {
          "base_uri": "https://localhost:8080/"
        },
        "outputId": "839b863e-5e09-4821-8593-89a95a376c54"
      },
      "source": [
        "from google.colab import drive\n",
        "drive.mount('/content/drive')"
      ],
      "execution_count": null,
      "outputs": [
        {
          "output_type": "stream",
          "name": "stdout",
          "text": [
            "Mounted at /content/drive\n"
          ]
        }
      ]
    },
    {
      "cell_type": "markdown",
      "metadata": {
        "_uuid": "04ff1a533119d589baee777c21194a951168b0c7",
        "id": "a4JKE33_7HBP"
      },
      "source": [
        "## Exploratory Data Analysis(EDA)\n",
        "*   Data Collection\n",
        "*   Visualization\n",
        "*   Data Preprocessing\n",
        "*   Data Cleaning\n",
        "\n",
        "<img src=\"http://s9.picofile.com/file/8338476134/EDA.png\">"
      ]
    },
    {
      "cell_type": "markdown",
      "metadata": {
        "_uuid": "cedecea930b278f86292367cc28d2996a235a169",
        "id": "63zD-4ME7HBQ"
      },
      "source": [
        "## Data Collection"
      ]
    },
    {
      "cell_type": "code",
      "metadata": {
        "_kg_hide-input": true,
        "_uuid": "9269ae851b744856bce56840637030a16a5877e1",
        "id": "-kVIMEM27HBT",
        "colab": {
          "base_uri": "https://localhost:8080/",
          "height": 206
        },
        "outputId": "ce1c9573-7668-4d27-efbf-aeaaee9bffff"
      },
      "source": [
        "df_train = pd.read_csv('/content/drive/My Drive/Colab Notebooks/Projects/Titanic/train.csv')\n",
        "df_train.head()"
      ],
      "execution_count": null,
      "outputs": [
        {
          "output_type": "execute_result",
          "data": {
            "text/html": [
              "<div>\n",
              "<style scoped>\n",
              "    .dataframe tbody tr th:only-of-type {\n",
              "        vertical-align: middle;\n",
              "    }\n",
              "\n",
              "    .dataframe tbody tr th {\n",
              "        vertical-align: top;\n",
              "    }\n",
              "\n",
              "    .dataframe thead th {\n",
              "        text-align: right;\n",
              "    }\n",
              "</style>\n",
              "<table border=\"1\" class=\"dataframe\">\n",
              "  <thead>\n",
              "    <tr style=\"text-align: right;\">\n",
              "      <th></th>\n",
              "      <th>PassengerId</th>\n",
              "      <th>Survived</th>\n",
              "      <th>Pclass</th>\n",
              "      <th>Name</th>\n",
              "      <th>Sex</th>\n",
              "      <th>Age</th>\n",
              "      <th>SibSp</th>\n",
              "      <th>Parch</th>\n",
              "      <th>Ticket</th>\n",
              "      <th>Fare</th>\n",
              "      <th>Cabin</th>\n",
              "      <th>Embarked</th>\n",
              "    </tr>\n",
              "  </thead>\n",
              "  <tbody>\n",
              "    <tr>\n",
              "      <th>0</th>\n",
              "      <td>1</td>\n",
              "      <td>0</td>\n",
              "      <td>3</td>\n",
              "      <td>Braund, Mr. Owen Harris</td>\n",
              "      <td>male</td>\n",
              "      <td>22.0</td>\n",
              "      <td>1</td>\n",
              "      <td>0</td>\n",
              "      <td>A/5 21171</td>\n",
              "      <td>7.2500</td>\n",
              "      <td>NaN</td>\n",
              "      <td>S</td>\n",
              "    </tr>\n",
              "    <tr>\n",
              "      <th>1</th>\n",
              "      <td>2</td>\n",
              "      <td>1</td>\n",
              "      <td>1</td>\n",
              "      <td>Cumings, Mrs. John Bradley (Florence Briggs Th...</td>\n",
              "      <td>female</td>\n",
              "      <td>38.0</td>\n",
              "      <td>1</td>\n",
              "      <td>0</td>\n",
              "      <td>PC 17599</td>\n",
              "      <td>71.2833</td>\n",
              "      <td>C85</td>\n",
              "      <td>C</td>\n",
              "    </tr>\n",
              "    <tr>\n",
              "      <th>2</th>\n",
              "      <td>3</td>\n",
              "      <td>1</td>\n",
              "      <td>3</td>\n",
              "      <td>Heikkinen, Miss. Laina</td>\n",
              "      <td>female</td>\n",
              "      <td>26.0</td>\n",
              "      <td>0</td>\n",
              "      <td>0</td>\n",
              "      <td>STON/O2. 3101282</td>\n",
              "      <td>7.9250</td>\n",
              "      <td>NaN</td>\n",
              "      <td>S</td>\n",
              "    </tr>\n",
              "    <tr>\n",
              "      <th>3</th>\n",
              "      <td>4</td>\n",
              "      <td>1</td>\n",
              "      <td>1</td>\n",
              "      <td>Futrelle, Mrs. Jacques Heath (Lily May Peel)</td>\n",
              "      <td>female</td>\n",
              "      <td>35.0</td>\n",
              "      <td>1</td>\n",
              "      <td>0</td>\n",
              "      <td>113803</td>\n",
              "      <td>53.1000</td>\n",
              "      <td>C123</td>\n",
              "      <td>S</td>\n",
              "    </tr>\n",
              "    <tr>\n",
              "      <th>4</th>\n",
              "      <td>5</td>\n",
              "      <td>0</td>\n",
              "      <td>3</td>\n",
              "      <td>Allen, Mr. William Henry</td>\n",
              "      <td>male</td>\n",
              "      <td>35.0</td>\n",
              "      <td>0</td>\n",
              "      <td>0</td>\n",
              "      <td>373450</td>\n",
              "      <td>8.0500</td>\n",
              "      <td>NaN</td>\n",
              "      <td>S</td>\n",
              "    </tr>\n",
              "  </tbody>\n",
              "</table>\n",
              "</div>"
            ],
            "text/plain": [
              "   PassengerId  Survived  Pclass  ...     Fare Cabin  Embarked\n",
              "0            1         0       3  ...   7.2500   NaN         S\n",
              "1            2         1       1  ...  71.2833   C85         C\n",
              "2            3         1       3  ...   7.9250   NaN         S\n",
              "3            4         1       1  ...  53.1000  C123         S\n",
              "4            5         0       3  ...   8.0500   NaN         S\n",
              "\n",
              "[5 rows x 12 columns]"
            ]
          },
          "metadata": {},
          "execution_count": 4
        }
      ]
    },
    {
      "cell_type": "code",
      "metadata": {
        "id": "bGPuf5KTS049",
        "colab": {
          "base_uri": "https://localhost:8080/",
          "height": 206
        },
        "outputId": "6a37ec7c-a7f5-46bd-eb9b-f31cc06f2c73"
      },
      "source": [
        "df_test= pd.read_csv('/content/drive/My Drive/Colab Notebooks/Projects/Titanic/test.csv')\n",
        "df_test.head()"
      ],
      "execution_count": null,
      "outputs": [
        {
          "output_type": "execute_result",
          "data": {
            "text/html": [
              "<div>\n",
              "<style scoped>\n",
              "    .dataframe tbody tr th:only-of-type {\n",
              "        vertical-align: middle;\n",
              "    }\n",
              "\n",
              "    .dataframe tbody tr th {\n",
              "        vertical-align: top;\n",
              "    }\n",
              "\n",
              "    .dataframe thead th {\n",
              "        text-align: right;\n",
              "    }\n",
              "</style>\n",
              "<table border=\"1\" class=\"dataframe\">\n",
              "  <thead>\n",
              "    <tr style=\"text-align: right;\">\n",
              "      <th></th>\n",
              "      <th>PassengerId</th>\n",
              "      <th>Pclass</th>\n",
              "      <th>Name</th>\n",
              "      <th>Sex</th>\n",
              "      <th>Age</th>\n",
              "      <th>SibSp</th>\n",
              "      <th>Parch</th>\n",
              "      <th>Ticket</th>\n",
              "      <th>Fare</th>\n",
              "      <th>Cabin</th>\n",
              "      <th>Embarked</th>\n",
              "    </tr>\n",
              "  </thead>\n",
              "  <tbody>\n",
              "    <tr>\n",
              "      <th>0</th>\n",
              "      <td>892</td>\n",
              "      <td>3</td>\n",
              "      <td>Kelly, Mr. James</td>\n",
              "      <td>male</td>\n",
              "      <td>34.5</td>\n",
              "      <td>0</td>\n",
              "      <td>0</td>\n",
              "      <td>330911</td>\n",
              "      <td>7.8292</td>\n",
              "      <td>NaN</td>\n",
              "      <td>Q</td>\n",
              "    </tr>\n",
              "    <tr>\n",
              "      <th>1</th>\n",
              "      <td>893</td>\n",
              "      <td>3</td>\n",
              "      <td>Wilkes, Mrs. James (Ellen Needs)</td>\n",
              "      <td>female</td>\n",
              "      <td>47.0</td>\n",
              "      <td>1</td>\n",
              "      <td>0</td>\n",
              "      <td>363272</td>\n",
              "      <td>7.0000</td>\n",
              "      <td>NaN</td>\n",
              "      <td>S</td>\n",
              "    </tr>\n",
              "    <tr>\n",
              "      <th>2</th>\n",
              "      <td>894</td>\n",
              "      <td>2</td>\n",
              "      <td>Myles, Mr. Thomas Francis</td>\n",
              "      <td>male</td>\n",
              "      <td>62.0</td>\n",
              "      <td>0</td>\n",
              "      <td>0</td>\n",
              "      <td>240276</td>\n",
              "      <td>9.6875</td>\n",
              "      <td>NaN</td>\n",
              "      <td>Q</td>\n",
              "    </tr>\n",
              "    <tr>\n",
              "      <th>3</th>\n",
              "      <td>895</td>\n",
              "      <td>3</td>\n",
              "      <td>Wirz, Mr. Albert</td>\n",
              "      <td>male</td>\n",
              "      <td>27.0</td>\n",
              "      <td>0</td>\n",
              "      <td>0</td>\n",
              "      <td>315154</td>\n",
              "      <td>8.6625</td>\n",
              "      <td>NaN</td>\n",
              "      <td>S</td>\n",
              "    </tr>\n",
              "    <tr>\n",
              "      <th>4</th>\n",
              "      <td>896</td>\n",
              "      <td>3</td>\n",
              "      <td>Hirvonen, Mrs. Alexander (Helga E Lindqvist)</td>\n",
              "      <td>female</td>\n",
              "      <td>22.0</td>\n",
              "      <td>1</td>\n",
              "      <td>1</td>\n",
              "      <td>3101298</td>\n",
              "      <td>12.2875</td>\n",
              "      <td>NaN</td>\n",
              "      <td>S</td>\n",
              "    </tr>\n",
              "  </tbody>\n",
              "</table>\n",
              "</div>"
            ],
            "text/plain": [
              "   PassengerId  Pclass  ... Cabin Embarked\n",
              "0          892       3  ...   NaN        Q\n",
              "1          893       3  ...   NaN        S\n",
              "2          894       2  ...   NaN        Q\n",
              "3          895       3  ...   NaN        S\n",
              "4          896       3  ...   NaN        S\n",
              "\n",
              "[5 rows x 11 columns]"
            ]
          },
          "metadata": {},
          "execution_count": 5
        }
      ]
    },
    {
      "cell_type": "markdown",
      "metadata": {
        "_uuid": "58ed9c838069f54de5cf90b20a774c3e236149b3",
        "id": "dyTQR5Q47HBY"
      },
      "source": [
        "><font color=\"red\"><b>Note: </b></font>\n",
        "\n",
        "* Another names for **column**: observation, sample, example, instance, record\n",
        "* Another names for **row**: feature, attribute"
      ]
    },
    {
      "cell_type": "markdown",
      "metadata": {
        "id": "6XaUbZMOPpsi"
      },
      "source": [
        "### Print 5 rows randomly"
      ]
    },
    {
      "cell_type": "code",
      "metadata": {
        "id": "W2J_MXVAPwZ7",
        "colab": {
          "base_uri": "https://localhost:8080/",
          "height": 206
        },
        "outputId": "9251e2af-5ba0-4630-a641-3aee8520d7f7"
      },
      "source": [
        "df_train.sample(5) "
      ],
      "execution_count": null,
      "outputs": [
        {
          "output_type": "execute_result",
          "data": {
            "text/html": [
              "<div>\n",
              "<style scoped>\n",
              "    .dataframe tbody tr th:only-of-type {\n",
              "        vertical-align: middle;\n",
              "    }\n",
              "\n",
              "    .dataframe tbody tr th {\n",
              "        vertical-align: top;\n",
              "    }\n",
              "\n",
              "    .dataframe thead th {\n",
              "        text-align: right;\n",
              "    }\n",
              "</style>\n",
              "<table border=\"1\" class=\"dataframe\">\n",
              "  <thead>\n",
              "    <tr style=\"text-align: right;\">\n",
              "      <th></th>\n",
              "      <th>PassengerId</th>\n",
              "      <th>Survived</th>\n",
              "      <th>Pclass</th>\n",
              "      <th>Name</th>\n",
              "      <th>Sex</th>\n",
              "      <th>Age</th>\n",
              "      <th>SibSp</th>\n",
              "      <th>Parch</th>\n",
              "      <th>Ticket</th>\n",
              "      <th>Fare</th>\n",
              "      <th>Cabin</th>\n",
              "      <th>Embarked</th>\n",
              "    </tr>\n",
              "  </thead>\n",
              "  <tbody>\n",
              "    <tr>\n",
              "      <th>637</th>\n",
              "      <td>638</td>\n",
              "      <td>0</td>\n",
              "      <td>2</td>\n",
              "      <td>Collyer, Mr. Harvey</td>\n",
              "      <td>male</td>\n",
              "      <td>31.0</td>\n",
              "      <td>1</td>\n",
              "      <td>1</td>\n",
              "      <td>C.A. 31921</td>\n",
              "      <td>26.2500</td>\n",
              "      <td>NaN</td>\n",
              "      <td>S</td>\n",
              "    </tr>\n",
              "    <tr>\n",
              "      <th>872</th>\n",
              "      <td>873</td>\n",
              "      <td>0</td>\n",
              "      <td>1</td>\n",
              "      <td>Carlsson, Mr. Frans Olof</td>\n",
              "      <td>male</td>\n",
              "      <td>33.0</td>\n",
              "      <td>0</td>\n",
              "      <td>0</td>\n",
              "      <td>695</td>\n",
              "      <td>5.0000</td>\n",
              "      <td>B51 B53 B55</td>\n",
              "      <td>S</td>\n",
              "    </tr>\n",
              "    <tr>\n",
              "      <th>396</th>\n",
              "      <td>397</td>\n",
              "      <td>0</td>\n",
              "      <td>3</td>\n",
              "      <td>Olsson, Miss. Elina</td>\n",
              "      <td>female</td>\n",
              "      <td>31.0</td>\n",
              "      <td>0</td>\n",
              "      <td>0</td>\n",
              "      <td>350407</td>\n",
              "      <td>7.8542</td>\n",
              "      <td>NaN</td>\n",
              "      <td>S</td>\n",
              "    </tr>\n",
              "    <tr>\n",
              "      <th>363</th>\n",
              "      <td>364</td>\n",
              "      <td>0</td>\n",
              "      <td>3</td>\n",
              "      <td>Asim, Mr. Adola</td>\n",
              "      <td>male</td>\n",
              "      <td>35.0</td>\n",
              "      <td>0</td>\n",
              "      <td>0</td>\n",
              "      <td>SOTON/O.Q. 3101310</td>\n",
              "      <td>7.0500</td>\n",
              "      <td>NaN</td>\n",
              "      <td>S</td>\n",
              "    </tr>\n",
              "    <tr>\n",
              "      <th>602</th>\n",
              "      <td>603</td>\n",
              "      <td>0</td>\n",
              "      <td>1</td>\n",
              "      <td>Harrington, Mr. Charles H</td>\n",
              "      <td>male</td>\n",
              "      <td>NaN</td>\n",
              "      <td>0</td>\n",
              "      <td>0</td>\n",
              "      <td>113796</td>\n",
              "      <td>42.4000</td>\n",
              "      <td>NaN</td>\n",
              "      <td>S</td>\n",
              "    </tr>\n",
              "  </tbody>\n",
              "</table>\n",
              "</div>"
            ],
            "text/plain": [
              "     PassengerId  Survived  Pclass  ...     Fare        Cabin  Embarked\n",
              "637          638         0       2  ...  26.2500          NaN         S\n",
              "872          873         0       1  ...   5.0000  B51 B53 B55         S\n",
              "396          397         0       3  ...   7.8542          NaN         S\n",
              "363          364         0       3  ...   7.0500          NaN         S\n",
              "602          603         0       1  ...  42.4000          NaN         S\n",
              "\n",
              "[5 rows x 12 columns]"
            ]
          },
          "metadata": {},
          "execution_count": 6
        }
      ]
    },
    {
      "cell_type": "markdown",
      "metadata": {
        "id": "QnYfm4lRP6E8"
      },
      "source": [
        "### Get a statistical report"
      ]
    },
    {
      "cell_type": "code",
      "metadata": {
        "id": "QEj3o-9cP6_S",
        "colab": {
          "base_uri": "https://localhost:8080/",
          "height": 300
        },
        "outputId": "6874f3d1-b1e5-4d15-bb85-6c23ffc91bd7"
      },
      "source": [
        "df_train.describe() "
      ],
      "execution_count": null,
      "outputs": [
        {
          "output_type": "execute_result",
          "data": {
            "text/html": [
              "<div>\n",
              "<style scoped>\n",
              "    .dataframe tbody tr th:only-of-type {\n",
              "        vertical-align: middle;\n",
              "    }\n",
              "\n",
              "    .dataframe tbody tr th {\n",
              "        vertical-align: top;\n",
              "    }\n",
              "\n",
              "    .dataframe thead th {\n",
              "        text-align: right;\n",
              "    }\n",
              "</style>\n",
              "<table border=\"1\" class=\"dataframe\">\n",
              "  <thead>\n",
              "    <tr style=\"text-align: right;\">\n",
              "      <th></th>\n",
              "      <th>PassengerId</th>\n",
              "      <th>Survived</th>\n",
              "      <th>Pclass</th>\n",
              "      <th>Age</th>\n",
              "      <th>SibSp</th>\n",
              "      <th>Parch</th>\n",
              "      <th>Fare</th>\n",
              "    </tr>\n",
              "  </thead>\n",
              "  <tbody>\n",
              "    <tr>\n",
              "      <th>count</th>\n",
              "      <td>891.000000</td>\n",
              "      <td>891.000000</td>\n",
              "      <td>891.000000</td>\n",
              "      <td>714.000000</td>\n",
              "      <td>891.000000</td>\n",
              "      <td>891.000000</td>\n",
              "      <td>891.000000</td>\n",
              "    </tr>\n",
              "    <tr>\n",
              "      <th>mean</th>\n",
              "      <td>446.000000</td>\n",
              "      <td>0.383838</td>\n",
              "      <td>2.308642</td>\n",
              "      <td>29.699118</td>\n",
              "      <td>0.523008</td>\n",
              "      <td>0.381594</td>\n",
              "      <td>32.204208</td>\n",
              "    </tr>\n",
              "    <tr>\n",
              "      <th>std</th>\n",
              "      <td>257.353842</td>\n",
              "      <td>0.486592</td>\n",
              "      <td>0.836071</td>\n",
              "      <td>14.526497</td>\n",
              "      <td>1.102743</td>\n",
              "      <td>0.806057</td>\n",
              "      <td>49.693429</td>\n",
              "    </tr>\n",
              "    <tr>\n",
              "      <th>min</th>\n",
              "      <td>1.000000</td>\n",
              "      <td>0.000000</td>\n",
              "      <td>1.000000</td>\n",
              "      <td>0.420000</td>\n",
              "      <td>0.000000</td>\n",
              "      <td>0.000000</td>\n",
              "      <td>0.000000</td>\n",
              "    </tr>\n",
              "    <tr>\n",
              "      <th>25%</th>\n",
              "      <td>223.500000</td>\n",
              "      <td>0.000000</td>\n",
              "      <td>2.000000</td>\n",
              "      <td>20.125000</td>\n",
              "      <td>0.000000</td>\n",
              "      <td>0.000000</td>\n",
              "      <td>7.910400</td>\n",
              "    </tr>\n",
              "    <tr>\n",
              "      <th>50%</th>\n",
              "      <td>446.000000</td>\n",
              "      <td>0.000000</td>\n",
              "      <td>3.000000</td>\n",
              "      <td>28.000000</td>\n",
              "      <td>0.000000</td>\n",
              "      <td>0.000000</td>\n",
              "      <td>14.454200</td>\n",
              "    </tr>\n",
              "    <tr>\n",
              "      <th>75%</th>\n",
              "      <td>668.500000</td>\n",
              "      <td>1.000000</td>\n",
              "      <td>3.000000</td>\n",
              "      <td>38.000000</td>\n",
              "      <td>1.000000</td>\n",
              "      <td>0.000000</td>\n",
              "      <td>31.000000</td>\n",
              "    </tr>\n",
              "    <tr>\n",
              "      <th>max</th>\n",
              "      <td>891.000000</td>\n",
              "      <td>1.000000</td>\n",
              "      <td>3.000000</td>\n",
              "      <td>80.000000</td>\n",
              "      <td>8.000000</td>\n",
              "      <td>6.000000</td>\n",
              "      <td>512.329200</td>\n",
              "    </tr>\n",
              "  </tbody>\n",
              "</table>\n",
              "</div>"
            ],
            "text/plain": [
              "       PassengerId    Survived      Pclass  ...       SibSp       Parch        Fare\n",
              "count   891.000000  891.000000  891.000000  ...  891.000000  891.000000  891.000000\n",
              "mean    446.000000    0.383838    2.308642  ...    0.523008    0.381594   32.204208\n",
              "std     257.353842    0.486592    0.836071  ...    1.102743    0.806057   49.693429\n",
              "min       1.000000    0.000000    1.000000  ...    0.000000    0.000000    0.000000\n",
              "25%     223.500000    0.000000    2.000000  ...    0.000000    0.000000    7.910400\n",
              "50%     446.000000    0.000000    3.000000  ...    0.000000    0.000000   14.454200\n",
              "75%     668.500000    1.000000    3.000000  ...    1.000000    0.000000   31.000000\n",
              "max     891.000000    1.000000    3.000000  ...    8.000000    6.000000  512.329200\n",
              "\n",
              "[8 rows x 7 columns]"
            ]
          },
          "metadata": {},
          "execution_count": 7
        }
      ]
    },
    {
      "cell_type": "markdown",
      "metadata": {
        "_uuid": "055772bd170aa8018aabd85106b76675802c33b3",
        "id": "w1FXIedg7HBp"
      },
      "source": [
        "\n",
        "## Visualization\n"
      ]
    },
    {
      "cell_type": "markdown",
      "metadata": {
        "id": "5D3o06c-7MYJ"
      },
      "source": [
        "**Filter unique values of features**\n",
        "\n",
        "FInd out categorical columns (PClass) instead of continuous ones (Price)."
      ]
    },
    {
      "cell_type": "code",
      "metadata": {
        "id": "-ftHgWGETz8j",
        "colab": {
          "base_uri": "https://localhost:8080/"
        },
        "outputId": "968d520a-3ec8-43fd-b0f2-2fd7f6aa01c1"
      },
      "source": [
        "# Print out all unique values\n",
        "print('Pclass unique values: ', df_train.Pclass.unique())\n",
        "print('SibSp unique values: ', df_train.SibSp.unique())\n",
        "print('Parch unique values: ', df_train.Parch.unique())\n",
        "print('Sex unique values: ', df_train.Sex.unique())\n",
        "print('Cabin unique values: ', df_train.Cabin.unique())"
      ],
      "execution_count": null,
      "outputs": [
        {
          "output_type": "stream",
          "name": "stdout",
          "text": [
            "Pclass unique values:  [3 1 2]\n",
            "SibSp unique values:  [1 0 3 4 2 5 8]\n",
            "Parch unique values:  [0 1 2 5 3 4 6]\n",
            "Sex unique values:  ['male' 'female']\n",
            "Cabin unique values:  [nan 'C85' 'C123' 'E46' 'G6' 'C103' 'D56' 'A6' 'C23 C25 C27' 'B78' 'D33'\n",
            " 'B30' 'C52' 'B28' 'C83' 'F33' 'F G73' 'E31' 'A5' 'D10 D12' 'D26' 'C110'\n",
            " 'B58 B60' 'E101' 'F E69' 'D47' 'B86' 'F2' 'C2' 'E33' 'B19' 'A7' 'C49'\n",
            " 'F4' 'A32' 'B4' 'B80' 'A31' 'D36' 'D15' 'C93' 'C78' 'D35' 'C87' 'B77'\n",
            " 'E67' 'B94' 'C125' 'C99' 'C118' 'D7' 'A19' 'B49' 'D' 'C22 C26' 'C106'\n",
            " 'C65' 'E36' 'C54' 'B57 B59 B63 B66' 'C7' 'E34' 'C32' 'B18' 'C124' 'C91'\n",
            " 'E40' 'T' 'C128' 'D37' 'B35' 'E50' 'C82' 'B96 B98' 'E10' 'E44' 'A34'\n",
            " 'C104' 'C111' 'C92' 'E38' 'D21' 'E12' 'E63' 'A14' 'B37' 'C30' 'D20' 'B79'\n",
            " 'E25' 'D46' 'B73' 'C95' 'B38' 'B39' 'B22' 'C86' 'C70' 'A16' 'C101' 'C68'\n",
            " 'A10' 'E68' 'B41' 'A20' 'D19' 'D50' 'D9' 'A23' 'B50' 'A26' 'D48' 'E58'\n",
            " 'C126' 'B71' 'B51 B53 B55' 'D49' 'B5' 'B20' 'F G63' 'C62 C64' 'E24' 'C90'\n",
            " 'C45' 'E8' 'B101' 'D45' 'C46' 'D30' 'E121' 'D11' 'E77' 'F38' 'B3' 'D6'\n",
            " 'B82 B84' 'D17' 'A36' 'B102' 'B69' 'E49' 'C47' 'D28' 'E17' 'A24' 'C50'\n",
            " 'B42' 'C148']\n"
          ]
        }
      ]
    },
    {
      "cell_type": "markdown",
      "metadata": {
        "id": "Zgek1BflPVvf"
      },
      "source": [
        "### Count unique values"
      ]
    },
    {
      "cell_type": "code",
      "metadata": {
        "id": "z8pM-kcXPZM9",
        "colab": {
          "base_uri": "https://localhost:8080/"
        },
        "outputId": "401cfaf1-0bca-46b5-d145-006d161f9319"
      },
      "source": [
        "print(df_train['Pclass'].value_counts())\n",
        "print(df_train['SibSp'].value_counts())\n",
        "print(df_train['Parch'].value_counts())\n",
        "\n",
        "# I will not print the Cabin's unique values since it has too many values"
      ],
      "execution_count": null,
      "outputs": [
        {
          "output_type": "stream",
          "name": "stdout",
          "text": [
            "3    491\n",
            "1    216\n",
            "2    184\n",
            "Name: Pclass, dtype: int64\n",
            "0    608\n",
            "1    209\n",
            "2     28\n",
            "4     18\n",
            "3     16\n",
            "8      7\n",
            "5      5\n",
            "Name: SibSp, dtype: int64\n",
            "0    678\n",
            "1    118\n",
            "2     80\n",
            "5      5\n",
            "3      5\n",
            "4      4\n",
            "6      1\n",
            "Name: Parch, dtype: int64\n"
          ]
        }
      ]
    },
    {
      "cell_type": "code",
      "metadata": {
        "id": "UDfj8u_zbH5k",
        "colab": {
          "base_uri": "https://localhost:8080/"
        },
        "outputId": "d7d042ac-4a4d-413a-c9cc-5b122e47d727"
      },
      "source": [
        "print(df_train['Sex'].value_counts())"
      ],
      "execution_count": null,
      "outputs": [
        {
          "output_type": "stream",
          "name": "stdout",
          "text": [
            "male      577\n",
            "female    314\n",
            "Name: Sex, dtype: int64\n"
          ]
        }
      ]
    },
    {
      "cell_type": "markdown",
      "metadata": {
        "id": "5CkEbmyq2aF9"
      },
      "source": [
        "### Count Plot"
      ]
    },
    {
      "cell_type": "markdown",
      "metadata": {
        "id": "lCAWG2hSz-07"
      },
      "source": [
        "#### **Survived vs Sex**"
      ]
    },
    {
      "cell_type": "code",
      "metadata": {
        "id": "e6VaVNI-TTWs",
        "colab": {
          "base_uri": "https://localhost:8080/",
          "height": 373
        },
        "outputId": "dff6cee4-06a5-445d-c8a3-06cf598b2ceb"
      },
      "source": [
        "plt.figure(figsize=(15,5))\n",
        "\n",
        "plt.subplot(1,3,1)\n",
        "sns.countplot(df_train.Sex)\n",
        "plt.title('Count plot for Sex')\n",
        "\n",
        "plt.subplot(1,3,2)\n",
        "sns.countplot(df_train.Survived) # input DataFrame.Column name\n",
        "plt.title('Number of passengers Survived')\n",
        "\n",
        "plt.subplot(1,3,3)\n",
        "sns.countplot(x=\"Survived\", hue=\"Sex\", data=df_train)\n",
        "plt.title('Number of passengers Survived by Sex')"
      ],
      "execution_count": null,
      "outputs": [
        {
          "output_type": "execute_result",
          "data": {
            "text/plain": [
              "Text(0.5, 1.0, 'Number of passengers Survived by Sex')"
            ]
          },
          "metadata": {},
          "execution_count": 11
        },
        {
          "output_type": "display_data",
          "data": {
            "image/png": "[encoded data removed]",
            "text/plain": [
              "<Figure size 1080x360 with 3 Axes>"
            ]
          },
          "metadata": {
            "needs_background": "light"
          }
        }
      ]
    },
    {
      "cell_type": "markdown",
      "metadata": {
        "id": "nnMQBPtC0HmK"
      },
      "source": [
        "#### **Survived vs Pclass**"
      ]
    },
    {
      "cell_type": "code",
      "metadata": {
        "id": "L7FH1vawzy4O",
        "colab": {
          "base_uri": "https://localhost:8080/",
          "height": 536
        },
        "outputId": "e85c6fc7-52f5-4199-bc3e-da132ace4e4b"
      },
      "source": [
        "plt.figure(figsize=(15,8))\n",
        "plt.subplot(1,3,1)\n",
        "sns.countplot(df_train.Pclass)\n",
        "plt.title('Count plot for Pclass')\n",
        "\n",
        "plt.subplot(1,3,2)\n",
        "sns.countplot(df_train.Survived) # input DataFrame.Column name\n",
        "plt.title('Number of passengers Survived')\n",
        "\n",
        "plt.subplot(1,3,3)\n",
        "sns.countplot(x='Survived', hue='Pclass', data=df_train)\n",
        "plt.title('Number of passengers Survived by Pclass')"
      ],
      "execution_count": null,
      "outputs": [
        {
          "output_type": "execute_result",
          "data": {
            "text/plain": [
              "Text(0.5, 1.0, 'Number of passengers Survived by Pclass')"
            ]
          },
          "metadata": {},
          "execution_count": 12
        },
        {
          "output_type": "display_data",
          "data": {
            "image/png": "[encoded data removed]",
            "text/plain": [
              "<Figure size 1080x576 with 3 Axes>"
            ]
          },
          "metadata": {
            "needs_background": "light"
          }
        }
      ]
    },
    {
      "cell_type": "markdown",
      "metadata": {
        "_uuid": "b0014a7a52e714996bc443981c853095926d20e5",
        "id": "yn1lgNPq7HBq"
      },
      "source": [
        "### Scatter Plot\n",
        "\n",
        "[Scatter plot](https://en.wikipedia.org/wiki/Scatter_plot) Identify correlation between 2 features\n",
        "\n"
      ]
    },
    {
      "cell_type": "markdown",
      "metadata": {
        "id": "uzxhoFx3mE3a"
      },
      "source": [
        "#### **Survived vs Pclass vs Fare vs Age**"
      ]
    },
    {
      "cell_type": "code",
      "metadata": {
        "_kg_hide-input": true,
        "_uuid": "af099546eed64ebc796403d4139cb4c977c27b03",
        "id": "8PopSalL7HB0",
        "colab": {
          "base_uri": "https://localhost:8080/",
          "height": 225
        },
        "outputId": "bbf2a8e3-3719-4f8c-d4a2-45ceb48be537"
      },
      "source": [
        "#https://seaborn.pydata.org/generated/seaborn.FacetGrid.html\n",
        "\n",
        "g = sns.FacetGrid(df_train, hue=\"Survived\", col=\"Pclass\", margin_titles=True,\n",
        "                  palette={1:\"seagreen\", 0:\"gray\"}) \n",
        "g=g.map(plt.scatter, \"Fare\", \"Age\", edgecolor=\"w\").add_legend();"
      ],
      "execution_count": null,
      "outputs": [
        {
          "output_type": "display_data",
          "data": {
            "image/png": "[encoded data removed]",
            "text/plain": [
              "<Figure size 709.55x216 with 3 Axes>"
            ]
          },
          "metadata": {
            "needs_background": "light"
          }
        }
      ]
    },
    {
      "cell_type": "markdown",
      "metadata": {
        "id": "GTwlWR5VmUb-"
      },
      "source": [
        "#### **Survived vs Pclass vs SibSp vs Parch**"
      ]
    },
    {
      "cell_type": "code",
      "metadata": {
        "id": "CqXN4eoW31ZH",
        "colab": {
          "base_uri": "https://localhost:8080/",
          "height": 225
        },
        "outputId": "a7805955-db82-4110-f540-710e8ddc3609"
      },
      "source": [
        "f = sns.FacetGrid(df_train, hue='Survived', col='Pclass', margin_titles=True,\n",
        "                  palette={1:'blue', 0:'red'})\n",
        "f = f.map(plt.scatter, 'SibSp', 'Parch', edgecolor='w').add_legend();"
      ],
      "execution_count": null,
      "outputs": [
        {
          "output_type": "display_data",
          "data": {
            "image/png": "[encoded data removed]",
            "text/plain": [
              "<Figure size 709.55x216 with 3 Axes>"
            ]
          },
          "metadata": {
            "needs_background": "light"
          }
        }
      ]
    },
    {
      "cell_type": "markdown",
      "metadata": {
        "_uuid": "d1c7b62b5f8cba427bca13049256365141655372",
        "id": "st7R7FYW7HCJ"
      },
      "source": [
        "### Box plot\n",
        "\n",
        "This plot describes numerical/continuous values by their quartiles.\n",
        "\n",
        "- https://www.khanacademy.org/math/statistics-probability/summarizing-quantitative-data/box-whisker-plots/a/box-plot-review\n",
        "- https://www.khanacademy.org/math/statistics-probability/summarizing-quantitative-data/box-whisker-plots/a/identifying-outliers-iqr-rule\n",
        "<img src=\"https://miro.medium.com/max/13500/1*2c21SkzJMf3frPXPAR_gZA.png\">\n"
      ]
    },
    {
      "cell_type": "markdown",
      "metadata": {
        "id": "Rcv8QRneI1pf"
      },
      "source": [
        "**Example**\n",
        "\n",
        "![boxplot](https://i.imgur.com/Mcw6vXv.png)"
      ]
    },
    {
      "cell_type": "code",
      "metadata": {
        "_kg_hide-input": true,
        "_uuid": "7b193e4aa7e6fb337d3f65c334849094addd097a",
        "id": "mbP7WkE17HCL",
        "colab": {
          "base_uri": "https://localhost:8080/",
          "height": 285
        },
        "outputId": "12ee19c9-5684-4c00-d7a5-d71b55eba087"
      },
      "source": [
        "ax= sns.boxplot(x=\"Pclass\", y=\"Age\", data=df_train)\n",
        "plt.show()\n",
        "# Noise: delete rows or replace by min or max of that column"
      ],
      "execution_count": null,
      "outputs": [
        {
          "output_type": "display_data",
          "data": {
            "image/png": "[encoded data removed]",
            "text/plain": [
              "<Figure size 432x288 with 1 Axes>"
            ]
          },
          "metadata": {
            "needs_background": "light"
          }
        }
      ]
    },
    {
      "cell_type": "markdown",
      "metadata": {
        "id": "KRzOCoDi8fZh"
      },
      "source": [
        "If there are noise or outliers, they can be replaced by Min or Max of those column's values."
      ]
    },
    {
      "cell_type": "markdown",
      "metadata": {
        "_uuid": "743a92c3c2fff1a1f99845518247f7971ad18b7c",
        "id": "pzLreWJY7HCQ"
      },
      "source": [
        "\n",
        "### Histogram"
      ]
    },
    {
      "cell_type": "code",
      "metadata": {
        "_kg_hide-input": true,
        "_uuid": "5da0520ed3e738ee8814b2d91843ed4acec2b6e6",
        "id": "GdR2nt4c7HCR",
        "colab": {
          "base_uri": "https://localhost:8080/",
          "height": 646
        },
        "outputId": "2c30544a-715c-4098-8bec-341be8dc9ade"
      },
      "source": [
        "df_train.hist(figsize=(15,10),bins=40)\n",
        "plt.figure()"
      ],
      "execution_count": null,
      "outputs": [
        {
          "output_type": "execute_result",
          "data": {
            "text/plain": [
              "<Figure size 432x288 with 0 Axes>"
            ]
          },
          "metadata": {},
          "execution_count": 16
        },
        {
          "output_type": "display_data",
          "data": {
            "image/png": "[encoded data removed]",
            "text/plain": [
              "<Figure size 1080x720 with 9 Axes>"
            ]
          },
          "metadata": {
            "needs_background": "light"
          }
        },
        {
          "output_type": "display_data",
          "data": {
            "text/plain": [
              "<Figure size 432x288 with 0 Axes>"
            ]
          },
          "metadata": {}
        }
      ]
    },
    {
      "cell_type": "markdown",
      "metadata": {
        "id": "NiQ7RSPQNOrF"
      },
      "source": [
        "### Correlation Heatmap"
      ]
    },
    {
      "cell_type": "code",
      "metadata": {
        "id": "4Pgg-RdCNQxO",
        "colab": {
          "base_uri": "https://localhost:8080/",
          "height": 559
        },
        "outputId": "c66b5113-d144-4f57-e3c7-09e7f2d24b49"
      },
      "source": [
        "# 1. Find correlation matrix using df.corr()\n",
        "# 2. Plot heatmap\n",
        "plt.figure(figsize=(8,8))\n",
        "sns.heatmap(df_train.corr(), annot=True) # corr() only used for DataFrame\n",
        "plt.title('Corelation Matrix');"
      ],
      "execution_count": null,
      "outputs": [
        {
          "output_type": "display_data",
          "data": {
            "image/png": "[encoded data removed]",
            "text/plain": [
              "<Figure size 576x576 with 2 Axes>"
            ]
          },
          "metadata": {
            "needs_background": "light"
          }
        }
      ]
    },
    {
      "cell_type": "markdown",
      "metadata": {
        "_uuid": "91dda1f631cf4ed362162501aaaac6d19cfd6cc7",
        "id": "DGYJCxIk7HFY"
      },
      "source": [
        "## Data Preprocessing\n",
        "**Data preprocessing** is to normalize, cleanse dataset before applying algorithms to it.\n",
        "Common techniques of Data preprocessing:\n",
        "* Preprocess imbalanced dataset\n",
        "* Preprocess dataset with NaN values\n",
        "* Preprocess noise (https://towardsdatascience.com/ways-to-detect-and-remove-the-outliers-404d16608dba)\n",
        "* Normalize dataset by Scaling (https://medium.com/@urvashilluniya/why-data-normalization-is-necessary-for-machine-learning-models-681b65a05029) \n",
        "* Select features (https://medium.com/analytics-vidhya/feature-selection-using-scikit-learn-5b4362e0c19b)"
      ]
    },
    {
      "cell_type": "markdown",
      "metadata": {
        "_uuid": "581b90e6a869c3793472c7edd59091d6d6342fb2",
        "id": "Jy-9EZ6y7HFZ"
      },
      "source": [
        " ## Types of features\n",
        "\n",
        "Features:\n",
        "* Numerical \n",
        "* Categorical\n",
        "* Datetime\n"
      ]
    },
    {
      "cell_type": "markdown",
      "metadata": {
        "id": "4PQuwCpj9ok4"
      },
      "source": [
        "### Check data type of each columns"
      ]
    },
    {
      "cell_type": "code",
      "metadata": {
        "id": "wo0-9NzAMezn",
        "colab": {
          "base_uri": "https://localhost:8080/"
        },
        "outputId": "2389d624-a243-4ac3-c635-90fb902b3813"
      },
      "source": [
        "df_train.info()"
      ],
      "execution_count": null,
      "outputs": [
        {
          "output_type": "stream",
          "name": "stdout",
          "text": [
            "<class 'pandas.core.frame.DataFrame'>\n",
            "RangeIndex: 891 entries, 0 to 890\n",
            "Data columns (total 12 columns):\n",
            " #   Column       Non-Null Count  Dtype  \n",
            "---  ------       --------------  -----  \n",
            " 0   PassengerId  891 non-null    int64  \n",
            " 1   Survived     891 non-null    int64  \n",
            " 2   Pclass       891 non-null    int64  \n",
            " 3   Name         891 non-null    object \n",
            " 4   Sex          891 non-null    object \n",
            " 5   Age          714 non-null    float64\n",
            " 6   SibSp        891 non-null    int64  \n",
            " 7   Parch        891 non-null    int64  \n",
            " 8   Ticket       891 non-null    object \n",
            " 9   Fare         891 non-null    float64\n",
            " 10  Cabin        204 non-null    object \n",
            " 11  Embarked     889 non-null    object \n",
            "dtypes: float64(2), int64(5), object(5)\n",
            "memory usage: 83.7+ KB\n"
          ]
        }
      ]
    },
    {
      "cell_type": "markdown",
      "metadata": {
        "_uuid": "73ab30f86273b590a51fc363d9bf78c2709558fa",
        "id": "-y4rapQG7HFa"
      },
      "source": [
        "## Data exploration"
      ]
    },
    {
      "cell_type": "code",
      "metadata": {
        "_kg_hide-input": true,
        "_uuid": "4b45251be7be77333051fe738639104ae1005fa5",
        "id": "BIfxVarS7HFd",
        "colab": {
          "base_uri": "https://localhost:8080/"
        },
        "outputId": "797db88a-cc5f-4f7d-9fd1-1a94df4a6c35"
      },
      "source": [
        "print(df_train.shape)"
      ],
      "execution_count": null,
      "outputs": [
        {
          "output_type": "stream",
          "name": "stdout",
          "text": [
            "(891, 12)\n"
          ]
        }
      ]
    },
    {
      "cell_type": "markdown",
      "metadata": {
        "_uuid": "a6315bf510cecb907b2d23aad25faf6ccad32ac4",
        "id": "B43NqHRJ7HF1"
      },
      "source": [
        ">  <font color=\"red\"><b>Note:</b></font>\n",
        "how many NA elements in every column\n"
      ]
    },
    {
      "cell_type": "code",
      "metadata": {
        "id": "mjlAG0SfB4Ke",
        "colab": {
          "base_uri": "https://localhost:8080/",
          "height": 423
        },
        "outputId": "e06bf41f-7976-47b1-b9e3-5a7e34799536"
      },
      "source": [
        "df_train.isnull()"
      ],
      "execution_count": null,
      "outputs": [
        {
          "output_type": "execute_result",
          "data": {
            "text/html": [
              "<div>\n",
              "<style scoped>\n",
              "    .dataframe tbody tr th:only-of-type {\n",
              "        vertical-align: middle;\n",
              "    }\n",
              "\n",
              "    .dataframe tbody tr th {\n",
              "        vertical-align: top;\n",
              "    }\n",
              "\n",
              "    .dataframe thead th {\n",
              "        text-align: right;\n",
              "    }\n",
              "</style>\n",
              "<table border=\"1\" class=\"dataframe\">\n",
              "  <thead>\n",
              "    <tr style=\"text-align: right;\">\n",
              "      <th></th>\n",
              "      <th>PassengerId</th>\n",
              "      <th>Survived</th>\n",
              "      <th>Pclass</th>\n",
              "      <th>Name</th>\n",
              "      <th>Sex</th>\n",
              "      <th>Age</th>\n",
              "      <th>SibSp</th>\n",
              "      <th>Parch</th>\n",
              "      <th>Ticket</th>\n",
              "      <th>Fare</th>\n",
              "      <th>Cabin</th>\n",
              "      <th>Embarked</th>\n",
              "    </tr>\n",
              "  </thead>\n",
              "  <tbody>\n",
              "    <tr>\n",
              "      <th>0</th>\n",
              "      <td>False</td>\n",
              "      <td>False</td>\n",
              "      <td>False</td>\n",
              "      <td>False</td>\n",
              "      <td>False</td>\n",
              "      <td>False</td>\n",
              "      <td>False</td>\n",
              "      <td>False</td>\n",
              "      <td>False</td>\n",
              "      <td>False</td>\n",
              "      <td>True</td>\n",
              "      <td>False</td>\n",
              "    </tr>\n",
              "    <tr>\n",
              "      <th>1</th>\n",
              "      <td>False</td>\n",
              "      <td>False</td>\n",
              "      <td>False</td>\n",
              "      <td>False</td>\n",
              "      <td>False</td>\n",
              "      <td>False</td>\n",
              "      <td>False</td>\n",
              "      <td>False</td>\n",
              "      <td>False</td>\n",
              "      <td>False</td>\n",
              "      <td>False</td>\n",
              "      <td>False</td>\n",
              "    </tr>\n",
              "    <tr>\n",
              "      <th>2</th>\n",
              "      <td>False</td>\n",
              "      <td>False</td>\n",
              "      <td>False</td>\n",
              "      <td>False</td>\n",
              "      <td>False</td>\n",
              "      <td>False</td>\n",
              "      <td>False</td>\n",
              "      <td>False</td>\n",
              "      <td>False</td>\n",
              "      <td>False</td>\n",
              "      <td>True</td>\n",
              "      <td>False</td>\n",
              "    </tr>\n",
              "    <tr>\n",
              "      <th>3</th>\n",
              "      <td>False</td>\n",
              "      <td>False</td>\n",
              "      <td>False</td>\n",
              "      <td>False</td>\n",
              "      <td>False</td>\n",
              "      <td>False</td>\n",
              "      <td>False</td>\n",
              "      <td>False</td>\n",
              "      <td>False</td>\n",
              "      <td>False</td>\n",
              "      <td>False</td>\n",
              "      <td>False</td>\n",
              "    </tr>\n",
              "    <tr>\n",
              "      <th>4</th>\n",
              "      <td>False</td>\n",
              "      <td>False</td>\n",
              "      <td>False</td>\n",
              "      <td>False</td>\n",
              "      <td>False</td>\n",
              "      <td>False</td>\n",
              "      <td>False</td>\n",
              "      <td>False</td>\n",
              "      <td>False</td>\n",
              "      <td>False</td>\n",
              "      <td>True</td>\n",
              "      <td>False</td>\n",
              "    </tr>\n",
              "    <tr>\n",
              "      <th>...</th>\n",
              "      <td>...</td>\n",
              "      <td>...</td>\n",
              "      <td>...</td>\n",
              "      <td>...</td>\n",
              "      <td>...</td>\n",
              "      <td>...</td>\n",
              "      <td>...</td>\n",
              "      <td>...</td>\n",
              "      <td>...</td>\n",
              "      <td>...</td>\n",
              "      <td>...</td>\n",
              "      <td>...</td>\n",
              "    </tr>\n",
              "    <tr>\n",
              "      <th>886</th>\n",
              "      <td>False</td>\n",
              "      <td>False</td>\n",
              "      <td>False</td>\n",
              "      <td>False</td>\n",
              "      <td>False</td>\n",
              "      <td>False</td>\n",
              "      <td>False</td>\n",
              "      <td>False</td>\n",
              "      <td>False</td>\n",
              "      <td>False</td>\n",
              "      <td>True</td>\n",
              "      <td>False</td>\n",
              "    </tr>\n",
              "    <tr>\n",
              "      <th>887</th>\n",
              "      <td>False</td>\n",
              "      <td>False</td>\n",
              "      <td>False</td>\n",
              "      <td>False</td>\n",
              "      <td>False</td>\n",
              "      <td>False</td>\n",
              "      <td>False</td>\n",
              "      <td>False</td>\n",
              "      <td>False</td>\n",
              "      <td>False</td>\n",
              "      <td>False</td>\n",
              "      <td>False</td>\n",
              "    </tr>\n",
              "    <tr>\n",
              "      <th>888</th>\n",
              "      <td>False</td>\n",
              "      <td>False</td>\n",
              "      <td>False</td>\n",
              "      <td>False</td>\n",
              "      <td>False</td>\n",
              "      <td>True</td>\n",
              "      <td>False</td>\n",
              "      <td>False</td>\n",
              "      <td>False</td>\n",
              "      <td>False</td>\n",
              "      <td>True</td>\n",
              "      <td>False</td>\n",
              "    </tr>\n",
              "    <tr>\n",
              "      <th>889</th>\n",
              "      <td>False</td>\n",
              "      <td>False</td>\n",
              "      <td>False</td>\n",
              "      <td>False</td>\n",
              "      <td>False</td>\n",
              "      <td>False</td>\n",
              "      <td>False</td>\n",
              "      <td>False</td>\n",
              "      <td>False</td>\n",
              "      <td>False</td>\n",
              "      <td>False</td>\n",
              "      <td>False</td>\n",
              "    </tr>\n",
              "    <tr>\n",
              "      <th>890</th>\n",
              "      <td>False</td>\n",
              "      <td>False</td>\n",
              "      <td>False</td>\n",
              "      <td>False</td>\n",
              "      <td>False</td>\n",
              "      <td>False</td>\n",
              "      <td>False</td>\n",
              "      <td>False</td>\n",
              "      <td>False</td>\n",
              "      <td>False</td>\n",
              "      <td>True</td>\n",
              "      <td>False</td>\n",
              "    </tr>\n",
              "  </tbody>\n",
              "</table>\n",
              "<p>891 rows × 12 columns</p>\n",
              "</div>"
            ],
            "text/plain": [
              "     PassengerId  Survived  Pclass   Name  ...  Ticket   Fare  Cabin  Embarked\n",
              "0          False     False   False  False  ...   False  False   True     False\n",
              "1          False     False   False  False  ...   False  False  False     False\n",
              "2          False     False   False  False  ...   False  False   True     False\n",
              "3          False     False   False  False  ...   False  False  False     False\n",
              "4          False     False   False  False  ...   False  False   True     False\n",
              "..           ...       ...     ...    ...  ...     ...    ...    ...       ...\n",
              "886        False     False   False  False  ...   False  False   True     False\n",
              "887        False     False   False  False  ...   False  False  False     False\n",
              "888        False     False   False  False  ...   False  False   True     False\n",
              "889        False     False   False  False  ...   False  False  False     False\n",
              "890        False     False   False  False  ...   False  False   True     False\n",
              "\n",
              "[891 rows x 12 columns]"
            ]
          },
          "metadata": {},
          "execution_count": 20
        }
      ]
    },
    {
      "cell_type": "markdown",
      "metadata": {
        "id": "EXogrtRa9vl2"
      },
      "source": [
        "### Count Numm values per Column\n",
        "\n",
        "Low classes are not indexed in the Cabin so there are many Null values. Only high classes have indices in the Cabin.\n",
        "\n",
        "Location/Seat in the Cabin might be important for analysis. But preprocessing it could consume time a lot so in this project, I will remove it."
      ]
    },
    {
      "cell_type": "code",
      "metadata": {
        "id": "QmpnEPYlqTRU",
        "colab": {
          "base_uri": "https://localhost:8080/"
        },
        "outputId": "ddeb04bb-25f9-4bf3-ae18-2dd76c806475"
      },
      "source": [
        "df_train.isnull().sum()"
      ],
      "execution_count": null,
      "outputs": [
        {
          "output_type": "execute_result",
          "data": {
            "text/plain": [
              "PassengerId      0\n",
              "Survived         0\n",
              "Pclass           0\n",
              "Name             0\n",
              "Sex              0\n",
              "Age            177\n",
              "SibSp            0\n",
              "Parch            0\n",
              "Ticket           0\n",
              "Fare             0\n",
              "Cabin          687\n",
              "Embarked         2\n",
              "dtype: int64"
            ]
          },
          "metadata": {},
          "execution_count": 21
        }
      ]
    },
    {
      "cell_type": "markdown",
      "metadata": {
        "id": "IZHWV60o-OHZ"
      },
      "source": [
        "### Check null on df_train and df_test"
      ]
    },
    {
      "cell_type": "code",
      "metadata": {
        "id": "GJaC8zNrOWTF",
        "colab": {
          "base_uri": "https://localhost:8080/"
        },
        "outputId": "d3655fdf-ad7c-4326-f6c7-7051aabde5f6"
      },
      "source": [
        "df_test.isnull()\n",
        "df_test.isnull().sum()"
      ],
      "execution_count": null,
      "outputs": [
        {
          "output_type": "execute_result",
          "data": {
            "text/plain": [
              "PassengerId      0\n",
              "Pclass           0\n",
              "Name             0\n",
              "Sex              0\n",
              "Age             86\n",
              "SibSp            0\n",
              "Parch            0\n",
              "Ticket           0\n",
              "Fare             1\n",
              "Cabin          327\n",
              "Embarked         0\n",
              "dtype: int64"
            ]
          },
          "metadata": {},
          "execution_count": 22
        }
      ]
    },
    {
      "cell_type": "markdown",
      "metadata": {
        "id": "tZ2xcb2QQtu5"
      },
      "source": [
        "### Remove columns"
      ]
    },
    {
      "cell_type": "markdown",
      "metadata": {
        "id": "Kzhp6tm3-VHw"
      },
      "source": [
        "Drop 4 columns Embarked, PassengerId, Cabin, Ticket"
      ]
    },
    {
      "cell_type": "code",
      "metadata": {
        "id": "633VeukQQvvN"
      },
      "source": [
        "df_train = df_train.drop(columns = ['Embarked', 'PassengerId', 'Cabin', 'Ticket'])\n",
        "df_test = df_test.drop(columns = ['Embarked', 'PassengerId', 'Cabin', 'Ticket'])"
      ],
      "execution_count": null,
      "outputs": []
    },
    {
      "cell_type": "code",
      "metadata": {
        "id": "WGaDvHx9rWfW",
        "colab": {
          "base_uri": "https://localhost:8080/",
          "height": 206
        },
        "outputId": "5a0b5524-7cdc-4fcc-b68d-6f88337cb749"
      },
      "source": [
        "df_train.head(5)"
      ],
      "execution_count": null,
      "outputs": [
        {
          "output_type": "execute_result",
          "data": {
            "text/html": [
              "<div>\n",
              "<style scoped>\n",
              "    .dataframe tbody tr th:only-of-type {\n",
              "        vertical-align: middle;\n",
              "    }\n",
              "\n",
              "    .dataframe tbody tr th {\n",
              "        vertical-align: top;\n",
              "    }\n",
              "\n",
              "    .dataframe thead th {\n",
              "        text-align: right;\n",
              "    }\n",
              "</style>\n",
              "<table border=\"1\" class=\"dataframe\">\n",
              "  <thead>\n",
              "    <tr style=\"text-align: right;\">\n",
              "      <th></th>\n",
              "      <th>Survived</th>\n",
              "      <th>Pclass</th>\n",
              "      <th>Name</th>\n",
              "      <th>Sex</th>\n",
              "      <th>Age</th>\n",
              "      <th>SibSp</th>\n",
              "      <th>Parch</th>\n",
              "      <th>Fare</th>\n",
              "    </tr>\n",
              "  </thead>\n",
              "  <tbody>\n",
              "    <tr>\n",
              "      <th>0</th>\n",
              "      <td>0</td>\n",
              "      <td>3</td>\n",
              "      <td>Braund, Mr. Owen Harris</td>\n",
              "      <td>male</td>\n",
              "      <td>22.0</td>\n",
              "      <td>1</td>\n",
              "      <td>0</td>\n",
              "      <td>7.2500</td>\n",
              "    </tr>\n",
              "    <tr>\n",
              "      <th>1</th>\n",
              "      <td>1</td>\n",
              "      <td>1</td>\n",
              "      <td>Cumings, Mrs. John Bradley (Florence Briggs Th...</td>\n",
              "      <td>female</td>\n",
              "      <td>38.0</td>\n",
              "      <td>1</td>\n",
              "      <td>0</td>\n",
              "      <td>71.2833</td>\n",
              "    </tr>\n",
              "    <tr>\n",
              "      <th>2</th>\n",
              "      <td>1</td>\n",
              "      <td>3</td>\n",
              "      <td>Heikkinen, Miss. Laina</td>\n",
              "      <td>female</td>\n",
              "      <td>26.0</td>\n",
              "      <td>0</td>\n",
              "      <td>0</td>\n",
              "      <td>7.9250</td>\n",
              "    </tr>\n",
              "    <tr>\n",
              "      <th>3</th>\n",
              "      <td>1</td>\n",
              "      <td>1</td>\n",
              "      <td>Futrelle, Mrs. Jacques Heath (Lily May Peel)</td>\n",
              "      <td>female</td>\n",
              "      <td>35.0</td>\n",
              "      <td>1</td>\n",
              "      <td>0</td>\n",
              "      <td>53.1000</td>\n",
              "    </tr>\n",
              "    <tr>\n",
              "      <th>4</th>\n",
              "      <td>0</td>\n",
              "      <td>3</td>\n",
              "      <td>Allen, Mr. William Henry</td>\n",
              "      <td>male</td>\n",
              "      <td>35.0</td>\n",
              "      <td>0</td>\n",
              "      <td>0</td>\n",
              "      <td>8.0500</td>\n",
              "    </tr>\n",
              "  </tbody>\n",
              "</table>\n",
              "</div>"
            ],
            "text/plain": [
              "   Survived  Pclass  ... Parch     Fare\n",
              "0         0       3  ...     0   7.2500\n",
              "1         1       1  ...     0  71.2833\n",
              "2         1       3  ...     0   7.9250\n",
              "3         1       1  ...     0  53.1000\n",
              "4         0       3  ...     0   8.0500\n",
              "\n",
              "[5 rows x 8 columns]"
            ]
          },
          "metadata": {},
          "execution_count": 24
        }
      ]
    },
    {
      "cell_type": "code",
      "metadata": {
        "id": "H6xnlt9Ircf_",
        "colab": {
          "base_uri": "https://localhost:8080/",
          "height": 206
        },
        "outputId": "f0750dc0-cacc-4e21-a98b-ee4c1287ecff"
      },
      "source": [
        "df_test.head(5)"
      ],
      "execution_count": null,
      "outputs": [
        {
          "output_type": "execute_result",
          "data": {
            "text/html": [
              "<div>\n",
              "<style scoped>\n",
              "    .dataframe tbody tr th:only-of-type {\n",
              "        vertical-align: middle;\n",
              "    }\n",
              "\n",
              "    .dataframe tbody tr th {\n",
              "        vertical-align: top;\n",
              "    }\n",
              "\n",
              "    .dataframe thead th {\n",
              "        text-align: right;\n",
              "    }\n",
              "</style>\n",
              "<table border=\"1\" class=\"dataframe\">\n",
              "  <thead>\n",
              "    <tr style=\"text-align: right;\">\n",
              "      <th></th>\n",
              "      <th>Pclass</th>\n",
              "      <th>Name</th>\n",
              "      <th>Sex</th>\n",
              "      <th>Age</th>\n",
              "      <th>SibSp</th>\n",
              "      <th>Parch</th>\n",
              "      <th>Fare</th>\n",
              "    </tr>\n",
              "  </thead>\n",
              "  <tbody>\n",
              "    <tr>\n",
              "      <th>0</th>\n",
              "      <td>3</td>\n",
              "      <td>Kelly, Mr. James</td>\n",
              "      <td>male</td>\n",
              "      <td>34.5</td>\n",
              "      <td>0</td>\n",
              "      <td>0</td>\n",
              "      <td>7.8292</td>\n",
              "    </tr>\n",
              "    <tr>\n",
              "      <th>1</th>\n",
              "      <td>3</td>\n",
              "      <td>Wilkes, Mrs. James (Ellen Needs)</td>\n",
              "      <td>female</td>\n",
              "      <td>47.0</td>\n",
              "      <td>1</td>\n",
              "      <td>0</td>\n",
              "      <td>7.0000</td>\n",
              "    </tr>\n",
              "    <tr>\n",
              "      <th>2</th>\n",
              "      <td>2</td>\n",
              "      <td>Myles, Mr. Thomas Francis</td>\n",
              "      <td>male</td>\n",
              "      <td>62.0</td>\n",
              "      <td>0</td>\n",
              "      <td>0</td>\n",
              "      <td>9.6875</td>\n",
              "    </tr>\n",
              "    <tr>\n",
              "      <th>3</th>\n",
              "      <td>3</td>\n",
              "      <td>Wirz, Mr. Albert</td>\n",
              "      <td>male</td>\n",
              "      <td>27.0</td>\n",
              "      <td>0</td>\n",
              "      <td>0</td>\n",
              "      <td>8.6625</td>\n",
              "    </tr>\n",
              "    <tr>\n",
              "      <th>4</th>\n",
              "      <td>3</td>\n",
              "      <td>Hirvonen, Mrs. Alexander (Helga E Lindqvist)</td>\n",
              "      <td>female</td>\n",
              "      <td>22.0</td>\n",
              "      <td>1</td>\n",
              "      <td>1</td>\n",
              "      <td>12.2875</td>\n",
              "    </tr>\n",
              "  </tbody>\n",
              "</table>\n",
              "</div>"
            ],
            "text/plain": [
              "   Pclass                                          Name  ... Parch     Fare\n",
              "0       3                              Kelly, Mr. James  ...     0   7.8292\n",
              "1       3              Wilkes, Mrs. James (Ellen Needs)  ...     0   7.0000\n",
              "2       2                     Myles, Mr. Thomas Francis  ...     0   9.6875\n",
              "3       3                              Wirz, Mr. Albert  ...     0   8.6625\n",
              "4       3  Hirvonen, Mrs. Alexander (Helga E Lindqvist)  ...     1  12.2875\n",
              "\n",
              "[5 rows x 7 columns]"
            ]
          },
          "metadata": {},
          "execution_count": 25
        }
      ]
    },
    {
      "cell_type": "markdown",
      "metadata": {
        "_uuid": "414a457068cc1e0390f7be45ad85cab0cab3cb72",
        "id": "hiUbTh1q7HGF"
      },
      "source": [
        "## Remove columns having NA"
      ]
    },
    {
      "cell_type": "code",
      "metadata": {
        "_kg_hide-input": true,
        "_uuid": "e8e124ca20643ad307d9bfdc34328d548c6ddcbc",
        "id": "83GuMdZ-7HGH"
      },
      "source": [
        "# remove rows that have NA's\n",
        "# df_test['Fare'] = df_test['Fare'].dropna() # incorrect\n",
        "df_test.dropna(subset=['Fare'],inplace=True) # !!! must be a subset then input to the column name"
      ],
      "execution_count": null,
      "outputs": []
    },
    {
      "cell_type": "code",
      "metadata": {
        "id": "qdde-sRxvtyz"
      },
      "source": [
        "# Remove all rows having Nan\n",
        "# df_test.dropna(inplace=True)"
      ],
      "execution_count": null,
      "outputs": []
    },
    {
      "cell_type": "markdown",
      "metadata": {
        "id": "EmpYbhRdNIHB"
      },
      "source": [
        "### Replace NA values by other values\n",
        "\n",
        "Replace by Median or Average of that Class. Evaluate based on Heatmap."
      ]
    },
    {
      "cell_type": "markdown",
      "metadata": {
        "id": "4Qb8IEdB_DZa"
      },
      "source": [
        "Left: return location of Nulls in Age column. \n",
        "\n",
        "Right: group by Pclass, transform Nulls in Age by median Age of Pclass (because Pclass has the highest correlation with Age)"
      ]
    },
    {
      "cell_type": "code",
      "metadata": {
        "id": "DlkJaRCnNHz6"
      },
      "source": [
        "df_train.loc[df_train.Age.isnull(), 'Age'] = df_train.groupby(\"Pclass\").Age.transform('median')\n",
        "\n",
        "df_test.loc[df_test.Age.isnull(), 'Age'] = df_test.groupby(\"Pclass\").Age.transform('median')"
      ],
      "execution_count": null,
      "outputs": []
    },
    {
      "cell_type": "code",
      "metadata": {
        "id": "NpI8g4JbuDZB",
        "colab": {
          "base_uri": "https://localhost:8080/",
          "height": 423
        },
        "outputId": "59c8a36a-2a60-4ce9-c43b-d04104f23fbc"
      },
      "source": [
        "df_train.isnull()"
      ],
      "execution_count": null,
      "outputs": [
        {
          "output_type": "execute_result",
          "data": {
            "text/html": [
              "<div>\n",
              "<style scoped>\n",
              "    .dataframe tbody tr th:only-of-type {\n",
              "        vertical-align: middle;\n",
              "    }\n",
              "\n",
              "    .dataframe tbody tr th {\n",
              "        vertical-align: top;\n",
              "    }\n",
              "\n",
              "    .dataframe thead th {\n",
              "        text-align: right;\n",
              "    }\n",
              "</style>\n",
              "<table border=\"1\" class=\"dataframe\">\n",
              "  <thead>\n",
              "    <tr style=\"text-align: right;\">\n",
              "      <th></th>\n",
              "      <th>Survived</th>\n",
              "      <th>Pclass</th>\n",
              "      <th>Name</th>\n",
              "      <th>Sex</th>\n",
              "      <th>Age</th>\n",
              "      <th>SibSp</th>\n",
              "      <th>Parch</th>\n",
              "      <th>Fare</th>\n",
              "    </tr>\n",
              "  </thead>\n",
              "  <tbody>\n",
              "    <tr>\n",
              "      <th>0</th>\n",
              "      <td>False</td>\n",
              "      <td>False</td>\n",
              "      <td>False</td>\n",
              "      <td>False</td>\n",
              "      <td>False</td>\n",
              "      <td>False</td>\n",
              "      <td>False</td>\n",
              "      <td>False</td>\n",
              "    </tr>\n",
              "    <tr>\n",
              "      <th>1</th>\n",
              "      <td>False</td>\n",
              "      <td>False</td>\n",
              "      <td>False</td>\n",
              "      <td>False</td>\n",
              "      <td>False</td>\n",
              "      <td>False</td>\n",
              "      <td>False</td>\n",
              "      <td>False</td>\n",
              "    </tr>\n",
              "    <tr>\n",
              "      <th>2</th>\n",
              "      <td>False</td>\n",
              "      <td>False</td>\n",
              "      <td>False</td>\n",
              "      <td>False</td>\n",
              "      <td>False</td>\n",
              "      <td>False</td>\n",
              "      <td>False</td>\n",
              "      <td>False</td>\n",
              "    </tr>\n",
              "    <tr>\n",
              "      <th>3</th>\n",
              "      <td>False</td>\n",
              "      <td>False</td>\n",
              "      <td>False</td>\n",
              "      <td>False</td>\n",
              "      <td>False</td>\n",
              "      <td>False</td>\n",
              "      <td>False</td>\n",
              "      <td>False</td>\n",
              "    </tr>\n",
              "    <tr>\n",
              "      <th>4</th>\n",
              "      <td>False</td>\n",
              "      <td>False</td>\n",
              "      <td>False</td>\n",
              "      <td>False</td>\n",
              "      <td>False</td>\n",
              "      <td>False</td>\n",
              "      <td>False</td>\n",
              "      <td>False</td>\n",
              "    </tr>\n",
              "    <tr>\n",
              "      <th>...</th>\n",
              "      <td>...</td>\n",
              "      <td>...</td>\n",
              "      <td>...</td>\n",
              "      <td>...</td>\n",
              "      <td>...</td>\n",
              "      <td>...</td>\n",
              "      <td>...</td>\n",
              "      <td>...</td>\n",
              "    </tr>\n",
              "    <tr>\n",
              "      <th>886</th>\n",
              "      <td>False</td>\n",
              "      <td>False</td>\n",
              "      <td>False</td>\n",
              "      <td>False</td>\n",
              "      <td>False</td>\n",
              "      <td>False</td>\n",
              "      <td>False</td>\n",
              "      <td>False</td>\n",
              "    </tr>\n",
              "    <tr>\n",
              "      <th>887</th>\n",
              "      <td>False</td>\n",
              "      <td>False</td>\n",
              "      <td>False</td>\n",
              "      <td>False</td>\n",
              "      <td>False</td>\n",
              "      <td>False</td>\n",
              "      <td>False</td>\n",
              "      <td>False</td>\n",
              "    </tr>\n",
              "    <tr>\n",
              "      <th>888</th>\n",
              "      <td>False</td>\n",
              "      <td>False</td>\n",
              "      <td>False</td>\n",
              "      <td>False</td>\n",
              "      <td>False</td>\n",
              "      <td>False</td>\n",
              "      <td>False</td>\n",
              "      <td>False</td>\n",
              "    </tr>\n",
              "    <tr>\n",
              "      <th>889</th>\n",
              "      <td>False</td>\n",
              "      <td>False</td>\n",
              "      <td>False</td>\n",
              "      <td>False</td>\n",
              "      <td>False</td>\n",
              "      <td>False</td>\n",
              "      <td>False</td>\n",
              "      <td>False</td>\n",
              "    </tr>\n",
              "    <tr>\n",
              "      <th>890</th>\n",
              "      <td>False</td>\n",
              "      <td>False</td>\n",
              "      <td>False</td>\n",
              "      <td>False</td>\n",
              "      <td>False</td>\n",
              "      <td>False</td>\n",
              "      <td>False</td>\n",
              "      <td>False</td>\n",
              "    </tr>\n",
              "  </tbody>\n",
              "</table>\n",
              "<p>891 rows × 8 columns</p>\n",
              "</div>"
            ],
            "text/plain": [
              "     Survived  Pclass   Name    Sex    Age  SibSp  Parch   Fare\n",
              "0       False   False  False  False  False  False  False  False\n",
              "1       False   False  False  False  False  False  False  False\n",
              "2       False   False  False  False  False  False  False  False\n",
              "3       False   False  False  False  False  False  False  False\n",
              "4       False   False  False  False  False  False  False  False\n",
              "..        ...     ...    ...    ...    ...    ...    ...    ...\n",
              "886     False   False  False  False  False  False  False  False\n",
              "887     False   False  False  False  False  False  False  False\n",
              "888     False   False  False  False  False  False  False  False\n",
              "889     False   False  False  False  False  False  False  False\n",
              "890     False   False  False  False  False  False  False  False\n",
              "\n",
              "[891 rows x 8 columns]"
            ]
          },
          "metadata": {},
          "execution_count": 29
        }
      ]
    },
    {
      "cell_type": "code",
      "metadata": {
        "id": "mcZwUuWwuGFW",
        "colab": {
          "base_uri": "https://localhost:8080/"
        },
        "outputId": "46ce735d-176e-4fc9-fc14-c4498dfb64ec"
      },
      "source": [
        "df_train.isnull().sum()"
      ],
      "execution_count": null,
      "outputs": [
        {
          "output_type": "execute_result",
          "data": {
            "text/plain": [
              "Survived    0\n",
              "Pclass      0\n",
              "Name        0\n",
              "Sex         0\n",
              "Age         0\n",
              "SibSp       0\n",
              "Parch       0\n",
              "Fare        0\n",
              "dtype: int64"
            ]
          },
          "metadata": {},
          "execution_count": 30
        }
      ]
    },
    {
      "cell_type": "code",
      "metadata": {
        "id": "7GvKJP5NuJr_",
        "colab": {
          "base_uri": "https://localhost:8080/",
          "height": 423
        },
        "outputId": "850a80f1-0116-4561-bb4d-7f478367d109"
      },
      "source": [
        "df_test.isnull()"
      ],
      "execution_count": null,
      "outputs": [
        {
          "output_type": "execute_result",
          "data": {
            "text/html": [
              "<div>\n",
              "<style scoped>\n",
              "    .dataframe tbody tr th:only-of-type {\n",
              "        vertical-align: middle;\n",
              "    }\n",
              "\n",
              "    .dataframe tbody tr th {\n",
              "        vertical-align: top;\n",
              "    }\n",
              "\n",
              "    .dataframe thead th {\n",
              "        text-align: right;\n",
              "    }\n",
              "</style>\n",
              "<table border=\"1\" class=\"dataframe\">\n",
              "  <thead>\n",
              "    <tr style=\"text-align: right;\">\n",
              "      <th></th>\n",
              "      <th>Pclass</th>\n",
              "      <th>Name</th>\n",
              "      <th>Sex</th>\n",
              "      <th>Age</th>\n",
              "      <th>SibSp</th>\n",
              "      <th>Parch</th>\n",
              "      <th>Fare</th>\n",
              "    </tr>\n",
              "  </thead>\n",
              "  <tbody>\n",
              "    <tr>\n",
              "      <th>0</th>\n",
              "      <td>False</td>\n",
              "      <td>False</td>\n",
              "      <td>False</td>\n",
              "      <td>False</td>\n",
              "      <td>False</td>\n",
              "      <td>False</td>\n",
              "      <td>False</td>\n",
              "    </tr>\n",
              "    <tr>\n",
              "      <th>1</th>\n",
              "      <td>False</td>\n",
              "      <td>False</td>\n",
              "      <td>False</td>\n",
              "      <td>False</td>\n",
              "      <td>False</td>\n",
              "      <td>False</td>\n",
              "      <td>False</td>\n",
              "    </tr>\n",
              "    <tr>\n",
              "      <th>2</th>\n",
              "      <td>False</td>\n",
              "      <td>False</td>\n",
              "      <td>False</td>\n",
              "      <td>False</td>\n",
              "      <td>False</td>\n",
              "      <td>False</td>\n",
              "      <td>False</td>\n",
              "    </tr>\n",
              "    <tr>\n",
              "      <th>3</th>\n",
              "      <td>False</td>\n",
              "      <td>False</td>\n",
              "      <td>False</td>\n",
              "      <td>False</td>\n",
              "      <td>False</td>\n",
              "      <td>False</td>\n",
              "      <td>False</td>\n",
              "    </tr>\n",
              "    <tr>\n",
              "      <th>4</th>\n",
              "      <td>False</td>\n",
              "      <td>False</td>\n",
              "      <td>False</td>\n",
              "      <td>False</td>\n",
              "      <td>False</td>\n",
              "      <td>False</td>\n",
              "      <td>False</td>\n",
              "    </tr>\n",
              "    <tr>\n",
              "      <th>...</th>\n",
              "      <td>...</td>\n",
              "      <td>...</td>\n",
              "      <td>...</td>\n",
              "      <td>...</td>\n",
              "      <td>...</td>\n",
              "      <td>...</td>\n",
              "      <td>...</td>\n",
              "    </tr>\n",
              "    <tr>\n",
              "      <th>413</th>\n",
              "      <td>False</td>\n",
              "      <td>False</td>\n",
              "      <td>False</td>\n",
              "      <td>False</td>\n",
              "      <td>False</td>\n",
              "      <td>False</td>\n",
              "      <td>False</td>\n",
              "    </tr>\n",
              "    <tr>\n",
              "      <th>414</th>\n",
              "      <td>False</td>\n",
              "      <td>False</td>\n",
              "      <td>False</td>\n",
              "      <td>False</td>\n",
              "      <td>False</td>\n",
              "      <td>False</td>\n",
              "      <td>False</td>\n",
              "    </tr>\n",
              "    <tr>\n",
              "      <th>415</th>\n",
              "      <td>False</td>\n",
              "      <td>False</td>\n",
              "      <td>False</td>\n",
              "      <td>False</td>\n",
              "      <td>False</td>\n",
              "      <td>False</td>\n",
              "      <td>False</td>\n",
              "    </tr>\n",
              "    <tr>\n",
              "      <th>416</th>\n",
              "      <td>False</td>\n",
              "      <td>False</td>\n",
              "      <td>False</td>\n",
              "      <td>False</td>\n",
              "      <td>False</td>\n",
              "      <td>False</td>\n",
              "      <td>False</td>\n",
              "    </tr>\n",
              "    <tr>\n",
              "      <th>417</th>\n",
              "      <td>False</td>\n",
              "      <td>False</td>\n",
              "      <td>False</td>\n",
              "      <td>False</td>\n",
              "      <td>False</td>\n",
              "      <td>False</td>\n",
              "      <td>False</td>\n",
              "    </tr>\n",
              "  </tbody>\n",
              "</table>\n",
              "<p>417 rows × 7 columns</p>\n",
              "</div>"
            ],
            "text/plain": [
              "     Pclass   Name    Sex    Age  SibSp  Parch   Fare\n",
              "0     False  False  False  False  False  False  False\n",
              "1     False  False  False  False  False  False  False\n",
              "2     False  False  False  False  False  False  False\n",
              "3     False  False  False  False  False  False  False\n",
              "4     False  False  False  False  False  False  False\n",
              "..      ...    ...    ...    ...    ...    ...    ...\n",
              "413   False  False  False  False  False  False  False\n",
              "414   False  False  False  False  False  False  False\n",
              "415   False  False  False  False  False  False  False\n",
              "416   False  False  False  False  False  False  False\n",
              "417   False  False  False  False  False  False  False\n",
              "\n",
              "[417 rows x 7 columns]"
            ]
          },
          "metadata": {},
          "execution_count": 31
        }
      ]
    },
    {
      "cell_type": "code",
      "metadata": {
        "id": "Ej9SGzLEuJvK",
        "colab": {
          "base_uri": "https://localhost:8080/"
        },
        "outputId": "7b4fb76a-3ca9-47b5-f446-95ae37763a65"
      },
      "source": [
        "df_test.isnull().sum()"
      ],
      "execution_count": null,
      "outputs": [
        {
          "output_type": "execute_result",
          "data": {
            "text/plain": [
              "Pclass    0\n",
              "Name      0\n",
              "Sex       0\n",
              "Age       0\n",
              "SibSp     0\n",
              "Parch     0\n",
              "Fare      0\n",
              "dtype: int64"
            ]
          },
          "metadata": {},
          "execution_count": 32
        }
      ]
    },
    {
      "cell_type": "markdown",
      "metadata": {
        "_uuid": "166e019ad0c531d7b82447eadbd61fb09a062047",
        "id": "9UHRnUf77HIQ"
      },
      "source": [
        "## Feature transformations\n",
        "\n"
      ]
    },
    {
      "cell_type": "markdown",
      "metadata": {
        "id": "fq_w7yIn_MCk"
      },
      "source": [
        "I will transform features into new types so they could bring better outcome for analysis and decision making: \n",
        "\n",
        "1. Name\n",
        "\n",
        "2. Age\n",
        "\n",
        "3. SibSp & Parch"
      ]
    },
    {
      "cell_type": "markdown",
      "metadata": {
        "id": "vgHMEfy-TwbL"
      },
      "source": [
        "### **Transform Name**"
      ]
    },
    {
      "cell_type": "code",
      "metadata": {
        "id": "ZClkqLlEWBic",
        "colab": {
          "base_uri": "https://localhost:8080/"
        },
        "outputId": "99b3c904-4944-44d4-8708-4ae35d486171"
      },
      "source": [
        "df_train['Name'].head(10)"
      ],
      "execution_count": null,
      "outputs": [
        {
          "output_type": "execute_result",
          "data": {
            "text/plain": [
              "0                              Braund, Mr. Owen Harris\n",
              "1    Cumings, Mrs. John Bradley (Florence Briggs Th...\n",
              "2                               Heikkinen, Miss. Laina\n",
              "3         Futrelle, Mrs. Jacques Heath (Lily May Peel)\n",
              "4                             Allen, Mr. William Henry\n",
              "5                                     Moran, Mr. James\n",
              "6                              McCarthy, Mr. Timothy J\n",
              "7                       Palsson, Master. Gosta Leonard\n",
              "8    Johnson, Mrs. Oscar W (Elisabeth Vilhelmina Berg)\n",
              "9                  Nasser, Mrs. Nicholas (Adele Achem)\n",
              "Name: Name, dtype: object"
            ]
          },
          "metadata": {},
          "execution_count": 33
        }
      ]
    },
    {
      "cell_type": "code",
      "metadata": {
        "id": "YmJYODRxUAtZ"
      },
      "source": [
        "df_train['Name'] = df_train.Name.str.extract(' ([A-Za-z]+)\\.', expand = False)\n",
        "df_test['Name'] = df_test.Name.str.extract(' ([A-Za-z]+)\\.', expand = False)"
      ],
      "execution_count": null,
      "outputs": []
    },
    {
      "cell_type": "code",
      "metadata": {
        "id": "j2nlIWxaULin",
        "colab": {
          "base_uri": "https://localhost:8080/"
        },
        "outputId": "064f6d37-d035-4645-cf4c-3b184e6153cb"
      },
      "source": [
        "df_train['Name'].unique().tolist()"
      ],
      "execution_count": null,
      "outputs": [
        {
          "output_type": "execute_result",
          "data": {
            "text/plain": [
              "['Mr',\n",
              " 'Mrs',\n",
              " 'Miss',\n",
              " 'Master',\n",
              " 'Don',\n",
              " 'Rev',\n",
              " 'Dr',\n",
              " 'Mme',\n",
              " 'Ms',\n",
              " 'Major',\n",
              " 'Lady',\n",
              " 'Sir',\n",
              " 'Mlle',\n",
              " 'Col',\n",
              " 'Capt',\n",
              " 'Countess',\n",
              " 'Jonkheer']"
            ]
          },
          "metadata": {},
          "execution_count": 35
        }
      ]
    },
    {
      "cell_type": "code",
      "metadata": {
        "id": "aF93M8CXTxI9"
      },
      "source": [
        "df_train.rename(columns={'Name' : 'Title'}, inplace=True)\n",
        "df_train['Title'] = df_train['Title'].replace(['Rev', 'Dr', 'Col', 'Ms', 'Mlle', 'Major', 'Countess', \n",
        "                                       'Capt', 'Dona', 'Jonkheer', 'Lady', 'Sir', 'Mme', 'Don'], 'Other')\n",
        "# Còn lại là Other                                      \n",
        "df_test.rename(columns={'Name' : 'Title'}, inplace=True)\n",
        "df_test['Title'] = df_test['Title'].replace(['Rev', 'Dr', 'Col', 'Ms', 'Mlle', 'Major', 'Countess', \n",
        "                                       'Capt', 'Dona', 'Jonkheer', 'Lady', 'Sir', 'Mme', 'Don'], 'Other')"
      ],
      "execution_count": null,
      "outputs": []
    },
    {
      "cell_type": "code",
      "metadata": {
        "id": "A7UL8ANWUbgC",
        "colab": {
          "base_uri": "https://localhost:8080/"
        },
        "outputId": "10780c6c-3de2-4471-a47b-2e7923dc6f91"
      },
      "source": [
        "df_train.Title.value_counts()"
      ],
      "execution_count": null,
      "outputs": [
        {
          "output_type": "execute_result",
          "data": {
            "text/plain": [
              "Mr        517\n",
              "Miss      182\n",
              "Mrs       125\n",
              "Master     40\n",
              "Other      27\n",
              "Name: Title, dtype: int64"
            ]
          },
          "metadata": {},
          "execution_count": 37
        }
      ]
    },
    {
      "cell_type": "markdown",
      "metadata": {
        "id": "GxQrn6DfU5q3"
      },
      "source": [
        "### **Transform Age**"
      ]
    },
    {
      "cell_type": "code",
      "metadata": {
        "id": "EB6OOZFUU8zi"
      },
      "source": [
        "# Gom nhóm \n",
        "bins = (0, 5, 12, 18, 25, 35, 60, 120)\n",
        "group_names = [ 'Baby', 'Child', 'Teenager', 'Student', 'Young Adult', 'Adult', 'Senior']\n",
        "categories = pd.cut(df_train.Age, bins, labels=group_names)\n",
        "df_train.Age = categories\n",
        "df_test.Age = categories"
      ],
      "execution_count": null,
      "outputs": []
    },
    {
      "cell_type": "code",
      "metadata": {
        "id": "r2cZTlnLVLqT",
        "colab": {
          "base_uri": "https://localhost:8080/"
        },
        "outputId": "110e67d4-a41b-4127-c63c-79145c1ca76c"
      },
      "source": [
        "df_train.Age.value_counts()"
      ],
      "execution_count": null,
      "outputs": [
        {
          "output_type": "execute_result",
          "data": {
            "text/plain": [
              "Student        298\n",
              "Adult          225\n",
              "Young Adult    207\n",
              "Teenager        70\n",
              "Baby            44\n",
              "Child           25\n",
              "Senior          22\n",
              "Name: Age, dtype: int64"
            ]
          },
          "metadata": {},
          "execution_count": 39
        }
      ]
    },
    {
      "cell_type": "markdown",
      "metadata": {
        "id": "gPbwpTRAVS3s"
      },
      "source": [
        "### **Transform SibSp & Parch**"
      ]
    },
    {
      "cell_type": "code",
      "metadata": {
        "id": "odyA9LfRVeny"
      },
      "source": [
        "# +1 means a person is counted\n",
        "df_train['FamilySize'] = df_train['SibSp'] + df_train['Parch'] + 1\n",
        "df_test['FamilySize'] = df_test['SibSp'] + df_test['Parch'] + 1"
      ],
      "execution_count": null,
      "outputs": []
    },
    {
      "cell_type": "code",
      "metadata": {
        "id": "WeqihBypVrji"
      },
      "source": [
        "df_train = df_train.drop(columns=['SibSp','Parch'])\n",
        "df_test = df_test.drop(columns=['SibSp','Parch'])"
      ],
      "execution_count": null,
      "outputs": []
    },
    {
      "cell_type": "code",
      "metadata": {
        "id": "1OJxkQiIW6eN",
        "colab": {
          "base_uri": "https://localhost:8080/"
        },
        "outputId": "0ecc7ca6-9622-43c4-dc4c-6499fd81faf8"
      },
      "source": [
        "df_train.FamilySize"
      ],
      "execution_count": null,
      "outputs": [
        {
          "output_type": "execute_result",
          "data": {
            "text/plain": [
              "0      2\n",
              "1      2\n",
              "2      1\n",
              "3      2\n",
              "4      1\n",
              "      ..\n",
              "886    1\n",
              "887    1\n",
              "888    4\n",
              "889    1\n",
              "890    1\n",
              "Name: FamilySize, Length: 891, dtype: int64"
            ]
          },
          "metadata": {},
          "execution_count": 42
        }
      ]
    },
    {
      "cell_type": "markdown",
      "metadata": {
        "_uuid": "460e83e7cdb3db098cff0a82432a729619aac918",
        "id": "eFjB0daq7HIW"
      },
      "source": [
        "## Feature Encoding\n",
        "\n",
        "Apply One Hot Encoding for all categorical columns"
      ]
    },
    {
      "cell_type": "code",
      "metadata": {
        "id": "NzkFJU_bZOhd",
        "colab": {
          "base_uri": "https://localhost:8080/",
          "height": 206
        },
        "outputId": "91c23486-626d-40cd-c984-1925d0bd0aab"
      },
      "source": [
        "df_train.head()"
      ],
      "execution_count": null,
      "outputs": [
        {
          "output_type": "execute_result",
          "data": {
            "text/html": [
              "<div>\n",
              "<style scoped>\n",
              "    .dataframe tbody tr th:only-of-type {\n",
              "        vertical-align: middle;\n",
              "    }\n",
              "\n",
              "    .dataframe tbody tr th {\n",
              "        vertical-align: top;\n",
              "    }\n",
              "\n",
              "    .dataframe thead th {\n",
              "        text-align: right;\n",
              "    }\n",
              "</style>\n",
              "<table border=\"1\" class=\"dataframe\">\n",
              "  <thead>\n",
              "    <tr style=\"text-align: right;\">\n",
              "      <th></th>\n",
              "      <th>Survived</th>\n",
              "      <th>Pclass</th>\n",
              "      <th>Title</th>\n",
              "      <th>Sex</th>\n",
              "      <th>Age</th>\n",
              "      <th>Fare</th>\n",
              "      <th>FamilySize</th>\n",
              "    </tr>\n",
              "  </thead>\n",
              "  <tbody>\n",
              "    <tr>\n",
              "      <th>0</th>\n",
              "      <td>0</td>\n",
              "      <td>3</td>\n",
              "      <td>Mr</td>\n",
              "      <td>male</td>\n",
              "      <td>Student</td>\n",
              "      <td>7.2500</td>\n",
              "      <td>2</td>\n",
              "    </tr>\n",
              "    <tr>\n",
              "      <th>1</th>\n",
              "      <td>1</td>\n",
              "      <td>1</td>\n",
              "      <td>Mrs</td>\n",
              "      <td>female</td>\n",
              "      <td>Adult</td>\n",
              "      <td>71.2833</td>\n",
              "      <td>2</td>\n",
              "    </tr>\n",
              "    <tr>\n",
              "      <th>2</th>\n",
              "      <td>1</td>\n",
              "      <td>3</td>\n",
              "      <td>Miss</td>\n",
              "      <td>female</td>\n",
              "      <td>Young Adult</td>\n",
              "      <td>7.9250</td>\n",
              "      <td>1</td>\n",
              "    </tr>\n",
              "    <tr>\n",
              "      <th>3</th>\n",
              "      <td>1</td>\n",
              "      <td>1</td>\n",
              "      <td>Mrs</td>\n",
              "      <td>female</td>\n",
              "      <td>Young Adult</td>\n",
              "      <td>53.1000</td>\n",
              "      <td>2</td>\n",
              "    </tr>\n",
              "    <tr>\n",
              "      <th>4</th>\n",
              "      <td>0</td>\n",
              "      <td>3</td>\n",
              "      <td>Mr</td>\n",
              "      <td>male</td>\n",
              "      <td>Young Adult</td>\n",
              "      <td>8.0500</td>\n",
              "      <td>1</td>\n",
              "    </tr>\n",
              "  </tbody>\n",
              "</table>\n",
              "</div>"
            ],
            "text/plain": [
              "   Survived  Pclass Title     Sex          Age     Fare  FamilySize\n",
              "0         0       3    Mr    male      Student   7.2500           2\n",
              "1         1       1   Mrs  female        Adult  71.2833           2\n",
              "2         1       3  Miss  female  Young Adult   7.9250           1\n",
              "3         1       1   Mrs  female  Young Adult  53.1000           2\n",
              "4         0       3    Mr    male  Young Adult   8.0500           1"
            ]
          },
          "metadata": {},
          "execution_count": 43
        }
      ]
    },
    {
      "cell_type": "markdown",
      "metadata": {
        "id": "tx-kzcG2ZS8A"
      },
      "source": [
        "### **Encode Sex column**"
      ]
    },
    {
      "cell_type": "code",
      "metadata": {
        "_kg_hide-input": true,
        "_uuid": "b06cb1191a0f52a904c52a918d1f999536e79bda",
        "id": "TDVyCqlz7HIi"
      },
      "source": [
        "# One hot encoding for 2 values: label 0 and 1\n",
        "df_train['Sex'] = df_train['Sex'].map({'male':1,'female':0})\n",
        "df_test['Sex'] = df_test['Sex'].map({'male':1,'female':0})"
      ],
      "execution_count": null,
      "outputs": []
    },
    {
      "cell_type": "code",
      "metadata": {
        "id": "Kdh4oE16aofe",
        "colab": {
          "base_uri": "https://localhost:8080/",
          "height": 206
        },
        "outputId": "8d4c5054-5096-4fc0-9d60-b9f57a9fb91d"
      },
      "source": [
        "df_train.head()"
      ],
      "execution_count": null,
      "outputs": [
        {
          "output_type": "execute_result",
          "data": {
            "text/html": [
              "<div>\n",
              "<style scoped>\n",
              "    .dataframe tbody tr th:only-of-type {\n",
              "        vertical-align: middle;\n",
              "    }\n",
              "\n",
              "    .dataframe tbody tr th {\n",
              "        vertical-align: top;\n",
              "    }\n",
              "\n",
              "    .dataframe thead th {\n",
              "        text-align: right;\n",
              "    }\n",
              "</style>\n",
              "<table border=\"1\" class=\"dataframe\">\n",
              "  <thead>\n",
              "    <tr style=\"text-align: right;\">\n",
              "      <th></th>\n",
              "      <th>Survived</th>\n",
              "      <th>Pclass</th>\n",
              "      <th>Title</th>\n",
              "      <th>Sex</th>\n",
              "      <th>Age</th>\n",
              "      <th>Fare</th>\n",
              "      <th>FamilySize</th>\n",
              "    </tr>\n",
              "  </thead>\n",
              "  <tbody>\n",
              "    <tr>\n",
              "      <th>0</th>\n",
              "      <td>0</td>\n",
              "      <td>3</td>\n",
              "      <td>Mr</td>\n",
              "      <td>1</td>\n",
              "      <td>Student</td>\n",
              "      <td>7.2500</td>\n",
              "      <td>2</td>\n",
              "    </tr>\n",
              "    <tr>\n",
              "      <th>1</th>\n",
              "      <td>1</td>\n",
              "      <td>1</td>\n",
              "      <td>Mrs</td>\n",
              "      <td>0</td>\n",
              "      <td>Adult</td>\n",
              "      <td>71.2833</td>\n",
              "      <td>2</td>\n",
              "    </tr>\n",
              "    <tr>\n",
              "      <th>2</th>\n",
              "      <td>1</td>\n",
              "      <td>3</td>\n",
              "      <td>Miss</td>\n",
              "      <td>0</td>\n",
              "      <td>Young Adult</td>\n",
              "      <td>7.9250</td>\n",
              "      <td>1</td>\n",
              "    </tr>\n",
              "    <tr>\n",
              "      <th>3</th>\n",
              "      <td>1</td>\n",
              "      <td>1</td>\n",
              "      <td>Mrs</td>\n",
              "      <td>0</td>\n",
              "      <td>Young Adult</td>\n",
              "      <td>53.1000</td>\n",
              "      <td>2</td>\n",
              "    </tr>\n",
              "    <tr>\n",
              "      <th>4</th>\n",
              "      <td>0</td>\n",
              "      <td>3</td>\n",
              "      <td>Mr</td>\n",
              "      <td>1</td>\n",
              "      <td>Young Adult</td>\n",
              "      <td>8.0500</td>\n",
              "      <td>1</td>\n",
              "    </tr>\n",
              "  </tbody>\n",
              "</table>\n",
              "</div>"
            ],
            "text/plain": [
              "   Survived  Pclass Title  Sex          Age     Fare  FamilySize\n",
              "0         0       3    Mr    1      Student   7.2500           2\n",
              "1         1       1   Mrs    0        Adult  71.2833           2\n",
              "2         1       3  Miss    0  Young Adult   7.9250           1\n",
              "3         1       1   Mrs    0  Young Adult  53.1000           2\n",
              "4         0       3    Mr    1  Young Adult   8.0500           1"
            ]
          },
          "metadata": {},
          "execution_count": 45
        }
      ]
    },
    {
      "cell_type": "markdown",
      "metadata": {
        "id": "bFI5hMaqZ3wl"
      },
      "source": [
        "### **Encode other columns**"
      ]
    },
    {
      "cell_type": "code",
      "metadata": {
        "id": "-JwlHXAjaC5P",
        "colab": {
          "base_uri": "https://localhost:8080/",
          "height": 243
        },
        "outputId": "3c169767-7879-4b81-b798-278c89a0840b"
      },
      "source": [
        "# One hot encoding for more than 2 values: use get_dummies\n",
        "df_train = pd.get_dummies(df_train)\n",
        "df_test = pd.get_dummies(df_test)\n",
        "df_train.head()"
      ],
      "execution_count": null,
      "outputs": [
        {
          "output_type": "execute_result",
          "data": {
            "text/html": [
              "<div>\n",
              "<style scoped>\n",
              "    .dataframe tbody tr th:only-of-type {\n",
              "        vertical-align: middle;\n",
              "    }\n",
              "\n",
              "    .dataframe tbody tr th {\n",
              "        vertical-align: top;\n",
              "    }\n",
              "\n",
              "    .dataframe thead th {\n",
              "        text-align: right;\n",
              "    }\n",
              "</style>\n",
              "<table border=\"1\" class=\"dataframe\">\n",
              "  <thead>\n",
              "    <tr style=\"text-align: right;\">\n",
              "      <th></th>\n",
              "      <th>Survived</th>\n",
              "      <th>Pclass</th>\n",
              "      <th>Sex</th>\n",
              "      <th>Fare</th>\n",
              "      <th>FamilySize</th>\n",
              "      <th>Title_Master</th>\n",
              "      <th>Title_Miss</th>\n",
              "      <th>Title_Mr</th>\n",
              "      <th>Title_Mrs</th>\n",
              "      <th>Title_Other</th>\n",
              "      <th>Age_Baby</th>\n",
              "      <th>Age_Child</th>\n",
              "      <th>Age_Teenager</th>\n",
              "      <th>Age_Student</th>\n",
              "      <th>Age_Young Adult</th>\n",
              "      <th>Age_Adult</th>\n",
              "      <th>Age_Senior</th>\n",
              "    </tr>\n",
              "  </thead>\n",
              "  <tbody>\n",
              "    <tr>\n",
              "      <th>0</th>\n",
              "      <td>0</td>\n",
              "      <td>3</td>\n",
              "      <td>1</td>\n",
              "      <td>7.2500</td>\n",
              "      <td>2</td>\n",
              "      <td>0</td>\n",
              "      <td>0</td>\n",
              "      <td>1</td>\n",
              "      <td>0</td>\n",
              "      <td>0</td>\n",
              "      <td>0</td>\n",
              "      <td>0</td>\n",
              "      <td>0</td>\n",
              "      <td>1</td>\n",
              "      <td>0</td>\n",
              "      <td>0</td>\n",
              "      <td>0</td>\n",
              "    </tr>\n",
              "    <tr>\n",
              "      <th>1</th>\n",
              "      <td>1</td>\n",
              "      <td>1</td>\n",
              "      <td>0</td>\n",
              "      <td>71.2833</td>\n",
              "      <td>2</td>\n",
              "      <td>0</td>\n",
              "      <td>0</td>\n",
              "      <td>0</td>\n",
              "      <td>1</td>\n",
              "      <td>0</td>\n",
              "      <td>0</td>\n",
              "      <td>0</td>\n",
              "      <td>0</td>\n",
              "      <td>0</td>\n",
              "      <td>0</td>\n",
              "      <td>1</td>\n",
              "      <td>0</td>\n",
              "    </tr>\n",
              "    <tr>\n",
              "      <th>2</th>\n",
              "      <td>1</td>\n",
              "      <td>3</td>\n",
              "      <td>0</td>\n",
              "      <td>7.9250</td>\n",
              "      <td>1</td>\n",
              "      <td>0</td>\n",
              "      <td>1</td>\n",
              "      <td>0</td>\n",
              "      <td>0</td>\n",
              "      <td>0</td>\n",
              "      <td>0</td>\n",
              "      <td>0</td>\n",
              "      <td>0</td>\n",
              "      <td>0</td>\n",
              "      <td>1</td>\n",
              "      <td>0</td>\n",
              "      <td>0</td>\n",
              "    </tr>\n",
              "    <tr>\n",
              "      <th>3</th>\n",
              "      <td>1</td>\n",
              "      <td>1</td>\n",
              "      <td>0</td>\n",
              "      <td>53.1000</td>\n",
              "      <td>2</td>\n",
              "      <td>0</td>\n",
              "      <td>0</td>\n",
              "      <td>0</td>\n",
              "      <td>1</td>\n",
              "      <td>0</td>\n",
              "      <td>0</td>\n",
              "      <td>0</td>\n",
              "      <td>0</td>\n",
              "      <td>0</td>\n",
              "      <td>1</td>\n",
              "      <td>0</td>\n",
              "      <td>0</td>\n",
              "    </tr>\n",
              "    <tr>\n",
              "      <th>4</th>\n",
              "      <td>0</td>\n",
              "      <td>3</td>\n",
              "      <td>1</td>\n",
              "      <td>8.0500</td>\n",
              "      <td>1</td>\n",
              "      <td>0</td>\n",
              "      <td>0</td>\n",
              "      <td>1</td>\n",
              "      <td>0</td>\n",
              "      <td>0</td>\n",
              "      <td>0</td>\n",
              "      <td>0</td>\n",
              "      <td>0</td>\n",
              "      <td>0</td>\n",
              "      <td>1</td>\n",
              "      <td>0</td>\n",
              "      <td>0</td>\n",
              "    </tr>\n",
              "  </tbody>\n",
              "</table>\n",
              "</div>"
            ],
            "text/plain": [
              "   Survived  Pclass  Sex  ...  Age_Young Adult  Age_Adult  Age_Senior\n",
              "0         0       3    1  ...                0          0           0\n",
              "1         1       1    0  ...                0          1           0\n",
              "2         1       3    0  ...                1          0           0\n",
              "3         1       1    0  ...                1          0           0\n",
              "4         0       3    1  ...                1          0           0\n",
              "\n",
              "[5 rows x 17 columns]"
            ]
          },
          "metadata": {},
          "execution_count": 46
        }
      ]
    },
    {
      "cell_type": "markdown",
      "metadata": {
        "id": "PZ_qcnyya_qu"
      },
      "source": [
        "## Prepare dataset"
      ]
    },
    {
      "cell_type": "markdown",
      "metadata": {
        "id": "6mwzxe5S8qt6"
      },
      "source": [
        "### Get the label y"
      ]
    },
    {
      "cell_type": "code",
      "metadata": {
        "id": "_ksHLGd68sX0"
      },
      "source": [
        "# 1. get y from column Suvived\n",
        "# 2. drop column Survived\n",
        "y = df_train.Survived\n",
        "df_train = df_train.drop(columns=['Survived'])"
      ],
      "execution_count": null,
      "outputs": []
    },
    {
      "cell_type": "code",
      "metadata": {
        "id": "JXhysNKN0L_M",
        "colab": {
          "base_uri": "https://localhost:8080/",
          "height": 243
        },
        "outputId": "936137a4-37ad-455b-b44f-10f11855d862"
      },
      "source": [
        "df_train.head(5)"
      ],
      "execution_count": null,
      "outputs": [
        {
          "output_type": "execute_result",
          "data": {
            "text/html": [
              "<div>\n",
              "<style scoped>\n",
              "    .dataframe tbody tr th:only-of-type {\n",
              "        vertical-align: middle;\n",
              "    }\n",
              "\n",
              "    .dataframe tbody tr th {\n",
              "        vertical-align: top;\n",
              "    }\n",
              "\n",
              "    .dataframe thead th {\n",
              "        text-align: right;\n",
              "    }\n",
              "</style>\n",
              "<table border=\"1\" class=\"dataframe\">\n",
              "  <thead>\n",
              "    <tr style=\"text-align: right;\">\n",
              "      <th></th>\n",
              "      <th>Pclass</th>\n",
              "      <th>Sex</th>\n",
              "      <th>Fare</th>\n",
              "      <th>FamilySize</th>\n",
              "      <th>Title_Master</th>\n",
              "      <th>Title_Miss</th>\n",
              "      <th>Title_Mr</th>\n",
              "      <th>Title_Mrs</th>\n",
              "      <th>Title_Other</th>\n",
              "      <th>Age_Baby</th>\n",
              "      <th>Age_Child</th>\n",
              "      <th>Age_Teenager</th>\n",
              "      <th>Age_Student</th>\n",
              "      <th>Age_Young Adult</th>\n",
              "      <th>Age_Adult</th>\n",
              "      <th>Age_Senior</th>\n",
              "    </tr>\n",
              "  </thead>\n",
              "  <tbody>\n",
              "    <tr>\n",
              "      <th>0</th>\n",
              "      <td>3</td>\n",
              "      <td>1</td>\n",
              "      <td>7.2500</td>\n",
              "      <td>2</td>\n",
              "      <td>0</td>\n",
              "      <td>0</td>\n",
              "      <td>1</td>\n",
              "      <td>0</td>\n",
              "      <td>0</td>\n",
              "      <td>0</td>\n",
              "      <td>0</td>\n",
              "      <td>0</td>\n",
              "      <td>1</td>\n",
              "      <td>0</td>\n",
              "      <td>0</td>\n",
              "      <td>0</td>\n",
              "    </tr>\n",
              "    <tr>\n",
              "      <th>1</th>\n",
              "      <td>1</td>\n",
              "      <td>0</td>\n",
              "      <td>71.2833</td>\n",
              "      <td>2</td>\n",
              "      <td>0</td>\n",
              "      <td>0</td>\n",
              "      <td>0</td>\n",
              "      <td>1</td>\n",
              "      <td>0</td>\n",
              "      <td>0</td>\n",
              "      <td>0</td>\n",
              "      <td>0</td>\n",
              "      <td>0</td>\n",
              "      <td>0</td>\n",
              "      <td>1</td>\n",
              "      <td>0</td>\n",
              "    </tr>\n",
              "    <tr>\n",
              "      <th>2</th>\n",
              "      <td>3</td>\n",
              "      <td>0</td>\n",
              "      <td>7.9250</td>\n",
              "      <td>1</td>\n",
              "      <td>0</td>\n",
              "      <td>1</td>\n",
              "      <td>0</td>\n",
              "      <td>0</td>\n",
              "      <td>0</td>\n",
              "      <td>0</td>\n",
              "      <td>0</td>\n",
              "      <td>0</td>\n",
              "      <td>0</td>\n",
              "      <td>1</td>\n",
              "      <td>0</td>\n",
              "      <td>0</td>\n",
              "    </tr>\n",
              "    <tr>\n",
              "      <th>3</th>\n",
              "      <td>1</td>\n",
              "      <td>0</td>\n",
              "      <td>53.1000</td>\n",
              "      <td>2</td>\n",
              "      <td>0</td>\n",
              "      <td>0</td>\n",
              "      <td>0</td>\n",
              "      <td>1</td>\n",
              "      <td>0</td>\n",
              "      <td>0</td>\n",
              "      <td>0</td>\n",
              "      <td>0</td>\n",
              "      <td>0</td>\n",
              "      <td>1</td>\n",
              "      <td>0</td>\n",
              "      <td>0</td>\n",
              "    </tr>\n",
              "    <tr>\n",
              "      <th>4</th>\n",
              "      <td>3</td>\n",
              "      <td>1</td>\n",
              "      <td>8.0500</td>\n",
              "      <td>1</td>\n",
              "      <td>0</td>\n",
              "      <td>0</td>\n",
              "      <td>1</td>\n",
              "      <td>0</td>\n",
              "      <td>0</td>\n",
              "      <td>0</td>\n",
              "      <td>0</td>\n",
              "      <td>0</td>\n",
              "      <td>0</td>\n",
              "      <td>1</td>\n",
              "      <td>0</td>\n",
              "      <td>0</td>\n",
              "    </tr>\n",
              "  </tbody>\n",
              "</table>\n",
              "</div>"
            ],
            "text/plain": [
              "   Pclass  Sex     Fare  ...  Age_Young Adult  Age_Adult  Age_Senior\n",
              "0       3    1   7.2500  ...                0          0           0\n",
              "1       1    0  71.2833  ...                0          1           0\n",
              "2       3    0   7.9250  ...                1          0           0\n",
              "3       1    0  53.1000  ...                1          0           0\n",
              "4       3    1   8.0500  ...                1          0           0\n",
              "\n",
              "[5 rows x 16 columns]"
            ]
          },
          "metadata": {},
          "execution_count": 48
        }
      ]
    },
    {
      "cell_type": "markdown",
      "metadata": {
        "_uuid": "7b6aa3e1e00043b658ba2111f4296c598a3ccfd2",
        "id": "hVaThlQI7HIr"
      },
      "source": [
        "### **Train / Validation Split**"
      ]
    },
    {
      "cell_type": "code",
      "metadata": {
        "_uuid": "0921e1c0ee59db81f42300294bc37428659a2ce9",
        "id": "M4CTrsomIflM",
        "colab": {
          "base_uri": "https://localhost:8080/"
        },
        "outputId": "f3f40cec-9417-4ac5-cac3-b9c92eaef339"
      },
      "source": [
        "# TODO\n",
        "# test_size=0.3 and stratify=y\n",
        "from sklearn.model_selection import train_test_split\n",
        "X_train, X_val, y_train, y_val = train_test_split(df_train, y, test_size=0.3, stratify=y, shuffle=True, random_state=1612)   \n",
        "print('Shape of X train', X_train.shape)\n",
        "print('Shape of y train', y_train.shape)\n",
        "print('Shape of X val', X_val.shape)\n",
        "print('Shape of y val', y_val.shape)"
      ],
      "execution_count": null,
      "outputs": [
        {
          "output_type": "stream",
          "name": "stdout",
          "text": [
            "Shape of X train (623, 16)\n",
            "Shape of y train (623,)\n",
            "Shape of X val (268, 16)\n",
            "Shape of y val (268,)\n"
          ]
        }
      ]
    },
    {
      "cell_type": "markdown",
      "metadata": {
        "id": "6xA6Y7NnbBrH"
      },
      "source": [
        "### **Feature Scaling (MinMaxScaler)**"
      ]
    },
    {
      "cell_type": "code",
      "metadata": {
        "id": "LnpeuG31E98C"
      },
      "source": [
        "from sklearn.preprocessing import MinMaxScaler\n",
        "\n",
        "scaler = MinMaxScaler()\n",
        "# Before using MinMaxScaler, get that column and reshape it, then transform it\n",
        "fares_train = np.array(X_train['Fare']).reshape(-1, 1)\n",
        "fares_val = np.array(X_val['Fare']).reshape(-1, 1)\n",
        "fares_test = np.array(df_test['Fare']).reshape(-1, 1)\n",
        "\n",
        "X_train['Fare'] = scaler.fit_transform(fares_train)\n",
        "X_val['Fare']= scaler.transform(fares_val)\n",
        "df_test['Fare'] = scaler.transform(fares_test)"
      ],
      "execution_count": null,
      "outputs": []
    },
    {
      "cell_type": "markdown",
      "metadata": {
        "id": "Aw2I0eWT2OLF"
      },
      "source": [
        "## 2D Visualization"
      ]
    },
    {
      "cell_type": "markdown",
      "metadata": {
        "id": "QO1a6sMR2TBO"
      },
      "source": [
        "### PCA decreases dimension - Method 1\n",
        "\n",
        "Feasible but not the best method"
      ]
    },
    {
      "cell_type": "code",
      "metadata": {
        "id": "_4MNKcCc2asZ"
      },
      "source": [
        "# 1. import PCA\n",
        "# 2. Initializa pca with 2 components\n",
        "# 3. Apply pca on X_train\n",
        "# 3. Name the new variable df_pca\n",
        "from sklearn.decomposition import PCA\n",
        "import numpy as np\n",
        "import matplotlib.pyplot as plt\n",
        "\n",
        "pca = PCA(n_components = 2) # 2D so number of components = 2\n",
        "df_pca = pca.fit_transform(X_train)"
      ],
      "execution_count": null,
      "outputs": []
    },
    {
      "cell_type": "code",
      "metadata": {
        "id": "AcLL56SI20Hh",
        "colab": {
          "base_uri": "https://localhost:8080/",
          "height": 502
        },
        "outputId": "099987e4-d321-4765-e6a3-15cecc9aadb9"
      },
      "source": [
        "plt.figure(figsize =(8, 8))\n",
        "sns.scatterplot(df_pca[:,0], df_pca[:,1], hue=y_train, legend='full') # seaborn is more modern than matplotlib"
      ],
      "execution_count": null,
      "outputs": [
        {
          "output_type": "execute_result",
          "data": {
            "text/plain": [
              "<matplotlib.axes._subplots.AxesSubplot at 0x7f43107a92d0>"
            ]
          },
          "metadata": {},
          "execution_count": 53
        },
        {
          "output_type": "display_data",
          "data": {
            "image/png": "[encoded data removed]",
            "text/plain": [
              "<Figure size 576x576 with 1 Axes>"
            ]
          },
          "metadata": {
            "needs_background": "light"
          }
        }
      ]
    },
    {
      "cell_type": "code",
      "metadata": {
        "id": "K9fMhMV63Fql",
        "colab": {
          "base_uri": "https://localhost:8080/"
        },
        "outputId": "462aaa44-9098-4cd0-fe5d-ce67c42ad13a"
      },
      "source": [
        "print(pca.explained_variance_ratio_)\n",
        "# Retained data is now only 0.56 + 0.16 = 72%"
      ],
      "execution_count": null,
      "outputs": [
        {
          "output_type": "stream",
          "name": "stdout",
          "text": [
            "[0.56122445 0.16031097]\n"
          ]
        }
      ]
    },
    {
      "cell_type": "markdown",
      "metadata": {
        "id": "c4_K34QX2U_q"
      },
      "source": [
        "### T-SNE decreases dimension to 2D - Method 2\n",
        "\n",
        "Visualize the embedded Z vector"
      ]
    },
    {
      "cell_type": "code",
      "metadata": {
        "id": "V3OWZBwP3DY_",
        "colab": {
          "base_uri": "https://localhost:8080/",
          "height": 502
        },
        "outputId": "be4610ac-fcc8-4e59-ed08-b8fe51f53fe3"
      },
      "source": [
        "from sklearn.manifold import TSNE\n",
        "\n",
        "tsne = TSNE()\n",
        "df_tsne = tsne.fit_transform(X_train)\n",
        "\n",
        "plt.figure(figsize =(8, 8))\n",
        "sns.scatterplot(df_tsne[:,0], df_tsne[:,1], hue=y_train, legend='full')"
      ],
      "execution_count": null,
      "outputs": [
        {
          "output_type": "execute_result",
          "data": {
            "text/plain": [
              "<matplotlib.axes._subplots.AxesSubplot at 0x7f430c3928d0>"
            ]
          },
          "metadata": {},
          "execution_count": 55
        },
        {
          "output_type": "display_data",
          "data": {
            "image/png": "[encoded data removed]",
            "text/plain": [
              "<Figure size 576x576 with 1 Axes>"
            ]
          },
          "metadata": {
            "needs_background": "light"
          }
        }
      ]
    },
    {
      "cell_type": "markdown",
      "metadata": {
        "_uuid": "3d240a0df576395a9c08df161df732bba89fda1e",
        "id": "XaiI_8LS7HKU"
      },
      "source": [
        "## Ensemble Model\n",
        "\n",
        "A combination of different models"
      ]
    },
    {
      "cell_type": "markdown",
      "metadata": {
        "id": "iaOoz_-Yc5ft"
      },
      "source": [
        "### Logistic Regression"
      ]
    },
    {
      "cell_type": "code",
      "metadata": {
        "_kg_hide-input": true,
        "_uuid": "70478a52a315460748cce36779e25dbb4d109258",
        "id": "QAIcGOkD7HKV",
        "colab": {
          "base_uri": "https://localhost:8080/"
        },
        "outputId": "7b64682c-b0fa-488a-b8ad-6a00629afdfa"
      },
      "source": [
        "# 1. Define LogisticRegression model\n",
        "# 2. Fit on Train\n",
        "from sklearn.linear_model import LogisticRegression\n",
        "logreg = LogisticRegression()\n",
        "logreg.fit(X_train, y_train) # fit on both X train, y train"
      ],
      "execution_count": null,
      "outputs": [
        {
          "output_type": "execute_result",
          "data": {
            "text/plain": [
              "LogisticRegression(C=1.0, class_weight=None, dual=False, fit_intercept=True,\n",
              "                   intercept_scaling=1, l1_ratio=None, max_iter=100,\n",
              "                   multi_class='auto', n_jobs=None, penalty='l2',\n",
              "                   random_state=None, solver='lbfgs', tol=0.0001, verbose=0,\n",
              "                   warm_start=False)"
            ]
          },
          "metadata": {},
          "execution_count": 56
        }
      ]
    },
    {
      "cell_type": "code",
      "metadata": {
        "_kg_hide-input": true,
        "_uuid": "a0fb319adb2974342f5825b77cedfb7969d06fda",
        "id": "GQesSMkk7HKZ",
        "colab": {
          "base_uri": "https://localhost:8080/"
        },
        "outputId": "f44060e4-368e-4ddc-c74a-161861538499"
      },
      "source": [
        "# Classification: use the default accuracy score\n",
        "# 1. Use score() function on 2 Set\n",
        "print('Accuracy on Train Set: ', logreg.score(X_train, y_train))\n",
        "print('Accuracy on Validation Set: ', logreg.score(X_val, y_val))"
      ],
      "execution_count": null,
      "outputs": [
        {
          "output_type": "stream",
          "name": "stdout",
          "text": [
            "Accuracy on Train Set:  0.8443017656500803\n",
            "Accuracy on Validation Set:  0.8059701492537313\n"
          ]
        }
      ]
    },
    {
      "cell_type": "markdown",
      "metadata": {
        "id": "P2Wts_hyAXGu"
      },
      "source": [
        "Both accuracy values are not high. They can be correct on alive people, and incorrect on dead people. So I will draw Confusion Matrix to see the accuracy."
      ]
    },
    {
      "cell_type": "markdown",
      "metadata": {
        "id": "z14KfBBFd6m_"
      },
      "source": [
        "### Support Vector Machine"
      ]
    },
    {
      "cell_type": "code",
      "metadata": {
        "id": "fE550aYMAB-4"
      },
      "source": [
        "C_values = [0.01, 0.1, 1] # 0.01 tới 10\n",
        "gamma_values = [0.01, 0.1, 1]\n",
        "kernel_values = ['linear', 'poly', 'rbf']\n",
        "\n",
        "param_grid = {\n",
        "    'kernel': kernel_values,\n",
        "    'C': C_values,\n",
        "    'gamma': gamma_values\n",
        "}"
      ],
      "execution_count": null,
      "outputs": []
    },
    {
      "cell_type": "code",
      "metadata": {
        "id": "TXnLoc3BeK96"
      },
      "source": [
        "# 1. import SVC, GridSearchCV\n",
        "# 3. create GridSearchCV with k-fold (cv) = 3\n",
        "# 4. fit on Train Set \n",
        "# 5. get the best model\n",
        "from sklearn.svm import SVC\n",
        "from sklearn.model_selection import GridSearchCV\n",
        "\n",
        "model = SVC(random_state=1612)\n",
        "grid = GridSearchCV(model, param_grid, cv=2)\n",
        "grid.fit(X_train, y_train)\n",
        "\n",
        "svc = grid.best_estimator_"
      ],
      "execution_count": null,
      "outputs": []
    },
    {
      "cell_type": "code",
      "metadata": {
        "id": "vum6yBpwf-y_"
      },
      "source": [
        "# # Use score() function on 2 Sets\n",
        "# print('Accuracy on Train Set: ', model.score(X_train, y_train))\n",
        "# print('Accuracy on Validation Set: ', model.score(X_val, y_val))"
      ],
      "execution_count": null,
      "outputs": []
    },
    {
      "cell_type": "code",
      "metadata": {
        "colab": {
          "base_uri": "https://localhost:8080/"
        },
        "id": "7aiNxooQGsW0",
        "outputId": "387d606b-2da5-4a0d-e926-4fa0b22fd7b6"
      },
      "source": [
        "print('Accuracy on Train Set: ', svc.score(X_train, y_train))\n",
        "print('Accuracy on Validation Set: ', svc.score(X_val, y_val))"
      ],
      "execution_count": null,
      "outputs": [
        {
          "output_type": "stream",
          "name": "stdout",
          "text": [
            "Accuracy on Train Set:  0.8507223113964687\n",
            "Accuracy on Validation Set:  0.7910447761194029\n"
          ]
        }
      ]
    },
    {
      "cell_type": "markdown",
      "metadata": {
        "id": "UmPSQ27Teuyg"
      },
      "source": [
        "### Decision Tree"
      ]
    },
    {
      "cell_type": "code",
      "metadata": {
        "id": "f-dkPG-oeuIy",
        "colab": {
          "base_uri": "https://localhost:8080/"
        },
        "outputId": "cba51ec5-f0dd-4b85-de7a-76c618f262b4"
      },
      "source": [
        "params = {\n",
        "    'criterion': ['entropy','gini'],\n",
        "    'max_depth': [3,5,7],\n",
        "    'min_samples_split': np.linspace(0.1, 1.0, 10), \n",
        "    'max_features':  ['auto', 'log2']\n",
        "}\n",
        "from sklearn.tree import DecisionTreeClassifier\n",
        "\n",
        "decision_tree = GridSearchCV(DecisionTreeClassifier(random_state=1612), params, cv=2, n_jobs=1)\n",
        "decision_tree.fit(X_train, y_train)\n",
        "\n",
        "# decision_tree = DecisionTreeClassifier(random_state=1612)\n",
        "# decision_tree.fit(X_train,y_train)"
      ],
      "execution_count": null,
      "outputs": [
        {
          "output_type": "execute_result",
          "data": {
            "text/plain": [
              "GridSearchCV(cv=2, error_score=nan,\n",
              "             estimator=DecisionTreeClassifier(ccp_alpha=0.0, class_weight=None,\n",
              "                                              criterion='gini', max_depth=None,\n",
              "                                              max_features=None,\n",
              "                                              max_leaf_nodes=None,\n",
              "                                              min_impurity_decrease=0.0,\n",
              "                                              min_impurity_split=None,\n",
              "                                              min_samples_leaf=1,\n",
              "                                              min_samples_split=2,\n",
              "                                              min_weight_fraction_leaf=0.0,\n",
              "                                              presort='deprecated',\n",
              "                                              random_state=1612,\n",
              "                                              splitter='best'),\n",
              "             iid='deprecated', n_jobs=1,\n",
              "             param_grid={'criterion': ['entropy', 'gini'],\n",
              "                         'max_depth': [3, 5, 7],\n",
              "                         'max_features': ['auto', 'log2'],\n",
              "                         'min_samples_split': array([0.1, 0.2, 0.3, 0.4, 0.5, 0.6, 0.7, 0.8, 0.9, 1. ])},\n",
              "             pre_dispatch='2*n_jobs', refit=True, return_train_score=False,\n",
              "             scoring=None, verbose=0)"
            ]
          },
          "metadata": {},
          "execution_count": 61
        }
      ]
    },
    {
      "cell_type": "code",
      "metadata": {
        "id": "y3nWXzG5gO1J",
        "colab": {
          "base_uri": "https://localhost:8080/",
          "height": 51
        },
        "outputId": "4650f3e1-30a2-4fb5-c254-9e4ea6c2b3b2"
      },
      "source": [
        "# # Use score() function on 2 Sets\n",
        "# print('Accuracy on Train Set: ', decision_tree.score(X_train, y_train))\n",
        "# print('Accuracy on Validation Set: ', decision_tree.score(X_val, y_val))"
      ],
      "execution_count": null,
      "outputs": [
        {
          "output_type": "stream",
          "text": [
            "Accuracy on Train Set:  0.9582664526484751\n",
            "Accuracy on Validation Set:  0.8059701492537313\n"
          ],
          "name": "stdout"
        }
      ]
    },
    {
      "cell_type": "code",
      "metadata": {
        "colab": {
          "base_uri": "https://localhost:8080/"
        },
        "id": "FcHtaifOHrS8",
        "outputId": "672c560a-e71f-440f-a931-6ecaaae689a4"
      },
      "source": [
        "# Use score() function on 2 Sets\n",
        "print('Accuracy on Train Set: ', decision_tree.score(X_train, y_train))\n",
        "print('Accuracy on Validation Set: ', decision_tree.score(X_val, y_val))"
      ],
      "execution_count": null,
      "outputs": [
        {
          "output_type": "stream",
          "name": "stdout",
          "text": [
            "Accuracy on Train Set:  0.826645264847512\n",
            "Accuracy on Validation Set:  0.7761194029850746\n"
          ]
        }
      ]
    },
    {
      "cell_type": "markdown",
      "metadata": {
        "id": "s7uObNWXgWqC"
      },
      "source": [
        "### Random Forest"
      ]
    },
    {
      "cell_type": "code",
      "metadata": {
        "id": "6PR7wqEGgYEV",
        "colab": {
          "base_uri": "https://localhost:8080/"
        },
        "outputId": "d6f0f67d-844e-440f-cb50-e34e38f2ee3e"
      },
      "source": [
        "# 1. Import RandomForestClassifier\n",
        "# 2. Create GridSearchCV with k-fold (cv) = 2\n",
        "# 3. fit on Train Set \n",
        "# 4. get the best model\n",
        "param_grid_random={'criterion': ['gini', 'entropy'],\n",
        "            'max_depth': [3, 5, 7],\n",
        "            'max_features': ['auto', 'log2'],\n",
        "            'n_estimators': [100, 300, 500]}\n",
        " \n",
        "from sklearn.ensemble import RandomForestClassifier \n",
        "\n",
        "random_forest = GridSearchCV(RandomForestClassifier(random_state=1612), params, cv=2, n_jobs=1)\n",
        "random_forest.fit(X_train, y_train)"
      ],
      "execution_count": null,
      "outputs": [
        {
          "output_type": "execute_result",
          "data": {
            "text/plain": [
              "GridSearchCV(cv=2, error_score=nan,\n",
              "             estimator=RandomForestClassifier(bootstrap=True, ccp_alpha=0.0,\n",
              "                                              class_weight=None,\n",
              "                                              criterion='gini', max_depth=None,\n",
              "                                              max_features='auto',\n",
              "                                              max_leaf_nodes=None,\n",
              "                                              max_samples=None,\n",
              "                                              min_impurity_decrease=0.0,\n",
              "                                              min_impurity_split=None,\n",
              "                                              min_samples_leaf=1,\n",
              "                                              min_samples_split=2,\n",
              "                                              min_weight_fraction_leaf=0.0,\n",
              "                                              n_estimators=100, n_jobs=None,\n",
              "                                              oob_score=False,\n",
              "                                              random_state=1612, verbose=0,\n",
              "                                              warm_start=False),\n",
              "             iid='deprecated', n_jobs=1,\n",
              "             param_grid={'criterion': ['entropy', 'gini'],\n",
              "                         'max_depth': [3, 5, 7],\n",
              "                         'max_features': ['auto', 'log2'],\n",
              "                         'min_samples_split': array([0.1, 0.2, 0.3, 0.4, 0.5, 0.6, 0.7, 0.8, 0.9, 1. ])},\n",
              "             pre_dispatch='2*n_jobs', refit=True, return_train_score=False,\n",
              "             scoring=None, verbose=0)"
            ]
          },
          "metadata": {},
          "execution_count": 68
        }
      ]
    },
    {
      "cell_type": "code",
      "metadata": {
        "id": "w50f2SAPgrta",
        "colab": {
          "base_uri": "https://localhost:8080/"
        },
        "outputId": "7f806ba8-3886-4e81-f9e8-8dce15a5cadb"
      },
      "source": [
        "# 1. Use score() function on 2 Sets\n",
        "print('Accuracy on Train Set: ', random_forest.score(X_train, y_train))\n",
        "print('Accuracy on Validation Set: ', random_forest.score(X_val, y_val))"
      ],
      "execution_count": null,
      "outputs": [
        {
          "output_type": "stream",
          "name": "stdout",
          "text": [
            "Accuracy on Train Set:  0.8491171749598716\n",
            "Accuracy on Validation Set:  0.7985074626865671\n"
          ]
        }
      ]
    },
    {
      "cell_type": "markdown",
      "metadata": {
        "id": "3_BtWp2OhTm1"
      },
      "source": [
        "### Voting Classifier"
      ]
    },
    {
      "cell_type": "markdown",
      "metadata": {
        "id": "8JjuA6Ugh6Q4"
      },
      "source": [
        "voting = {'hard', 'soft'}\n",
        "\n",
        "If 'hard', uses predicted class labels for majority rule voting. Else if 'soft', predicts the class label based on the argmax of the sums of the predicted probabilities, which is recommended for an ensemble of well-calibrated classifiers."
      ]
    },
    {
      "cell_type": "code",
      "metadata": {
        "id": "FFbtTTSihVEj",
        "colab": {
          "base_uri": "https://localhost:8080/"
        },
        "outputId": "52012830-16e3-40f9-acad-ebd5fee1998d"
      },
      "source": [
        "from sklearn.ensemble import VotingClassifier\n",
        "\n",
        "ensemble = VotingClassifier(estimators=[\n",
        "                              ('Logistic Regression', logreg), \n",
        "                              ('SVM', svc), \n",
        "                              ('Decision Tree', decision_tree)],\n",
        "                            voting='hard',\n",
        "                            n_jobs=-1) # hard: label which has many ones can be returned # ('Random Forest', random_forest)\n",
        "\n",
        "ensemble.fit(X_train, y_train)"
      ],
      "execution_count": null,
      "outputs": [
        {
          "output_type": "execute_result",
          "data": {
            "text/plain": [
              "VotingClassifier(estimators=[('Logistic Regression',\n",
              "                              LogisticRegression(C=1.0, class_weight=None,\n",
              "                                                 dual=False, fit_intercept=True,\n",
              "                                                 intercept_scaling=1,\n",
              "                                                 l1_ratio=None, max_iter=100,\n",
              "                                                 multi_class='auto',\n",
              "                                                 n_jobs=None, penalty='l2',\n",
              "                                                 random_state=None,\n",
              "                                                 solver='lbfgs', tol=0.0001,\n",
              "                                                 verbose=0, warm_start=False)),\n",
              "                             ('SVM',\n",
              "                              SVC(C=1, break_ties=False, cache_size=200,\n",
              "                                  class_weight=No...\n",
              "                                                                            splitter='best'),\n",
              "                                           iid='deprecated', n_jobs=1,\n",
              "                                           param_grid={'criterion': ['entropy',\n",
              "                                                                     'gini'],\n",
              "                                                       'max_depth': [3, 5, 7],\n",
              "                                                       'max_features': ['auto',\n",
              "                                                                        'log2'],\n",
              "                                                       'min_samples_split': array([0.1, 0.2, 0.3, 0.4, 0.5, 0.6, 0.7, 0.8, 0.9, 1. ])},\n",
              "                                           pre_dispatch='2*n_jobs', refit=True,\n",
              "                                           return_train_score=False,\n",
              "                                           scoring=None, verbose=0))],\n",
              "                 flatten_transform=True, n_jobs=-1, voting='hard',\n",
              "                 weights=None)"
            ]
          },
          "metadata": {},
          "execution_count": 70
        }
      ]
    },
    {
      "cell_type": "code",
      "metadata": {
        "id": "UcYT_7tfifSO",
        "colab": {
          "base_uri": "https://localhost:8080/"
        },
        "outputId": "b909d440-e5d1-465c-999f-150e7ff3db0d"
      },
      "source": [
        "# Use score() function on 2 Sets\n",
        "print('Accuracy on Train Set: ', ensemble.score(X_train, y_train))\n",
        "print('Accuracy on Validation Set: ', ensemble.score(X_val, y_val))"
      ],
      "execution_count": null,
      "outputs": [
        {
          "output_type": "stream",
          "name": "stdout",
          "text": [
            "Accuracy on Train Set:  0.8491171749598716\n",
            "Accuracy on Validation Set:  0.7873134328358209\n"
          ]
        }
      ]
    },
    {
      "cell_type": "markdown",
      "metadata": {
        "id": "zEHaCLywi51k"
      },
      "source": [
        "### **Confusion Matrix**"
      ]
    },
    {
      "cell_type": "code",
      "metadata": {
        "id": "K15ddp5FioH4",
        "colab": {
          "base_uri": "https://localhost:8080/",
          "height": 628
        },
        "outputId": "5159e596-7d5c-46a8-f614-fe3347cb8b75"
      },
      "source": [
        "# 1. Import confusion matrix from sklearn\n",
        "# 2. Use confusion_matrix to draw a heatmap\n",
        "# 3. if your heatmap show 8e+2 numbers. Insise heatmap() function, put a parameter fmt='.1f'  \n",
        "from sklearn.metrics import confusion_matrix\n",
        "y_pred = ensemble.predict(X_val)\n",
        "cm = confusion_matrix(y_val, y_pred)\n",
        "plt.figure(figsize=(10,10))\n",
        "sns.heatmap(cm, annot=True, fmt='.1f')\n",
        "plt.title('Confusion Matrix')"
      ],
      "execution_count": null,
      "outputs": [
        {
          "output_type": "execute_result",
          "data": {
            "text/plain": [
              "Text(0.5, 1.0, 'Confusion Matrix')"
            ]
          },
          "metadata": {},
          "execution_count": 72
        },
        {
          "output_type": "display_data",
          "data": {
            "image/png": "[encoded data removed]",
            "text/plain": [
              "<Figure size 720x720 with 2 Axes>"
            ]
          },
          "metadata": {
            "needs_background": "light"
          }
        }
      ]
    },
    {
      "cell_type": "code",
      "metadata": {
        "id": "6p7yB1l--Weg"
      },
      "source": [
        ""
      ],
      "execution_count": null,
      "outputs": []
    }
  ]
}